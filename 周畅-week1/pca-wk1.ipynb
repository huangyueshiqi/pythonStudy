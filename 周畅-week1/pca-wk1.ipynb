{
 "cells": [
  {
   "cell_type": "code",
   "execution_count": 15,
   "metadata": {},
   "outputs": [
    {
     "name": "stdout",
     "output_type": "stream",
     "text": [
      "[[  5  99]\n",
      " [  7  86]\n",
      " [  8  87]\n",
      " [  7  88]\n",
      " [  2 111]\n",
      " [ 17  86]\n",
      " [  2 103]\n",
      " [  9  87]\n",
      " [  4  94]\n",
      " [ 11  78]\n",
      " [ 12  77]\n",
      " [  9  85]\n",
      " [  6  86]]\n"
     ]
    },
    {
     "data": {
      "image/png": "[encoded data removed]",
      "text/plain": [
       "<Figure size 432x288 with 1 Axes>"
      ]
     },
     "metadata": {
      "needs_background": "light"
     },
     "output_type": "display_data"
    },
    {
     "data": {
      "text/plain": [
       "(13, 2)"
      ]
     },
     "execution_count": 15,
     "metadata": {},
     "output_type": "execute_result"
    }
   ],
   "source": [
    "import matplotlib.pyplot as plt\n",
    "import numpy as np\n",
    "\n",
    "\n",
    "x = np.array([5,7,8,7,2,17,2,9,4,11,12,9,6])\n",
    "y = np.array([99,86,87,88,111,86,103,87,94,78,77,85,86])\n",
    "new_array=np.array(list(zip(x,y)))   #合并两列表\n",
    "print(new_array)\n",
    "plt.scatter(x, y)      #生成散点图\n",
    "plt.show()\n",
    "new_array.shape      #读取矩阵长度"
   ]
  },
  {
   "cell_type": "code",
   "execution_count": 16,
   "metadata": {},
   "outputs": [
    {
     "data": {
      "image/png": "[encoded data removed]",
      "text/plain": [
       "<Figure size 432x288 with 1 Axes>"
      ]
     },
     "metadata": {
      "needs_background": "light"
     },
     "output_type": "display_data"
    }
   ],
   "source": [
    "new_array_demean = new_array - np.mean(new_array,axis=0)    #去除每一列的均值\n",
    "new_test=new_array[:,1]\n",
    "plt.scatter(new_array_demean[:,0],new_array_demean[:,1])    #第0维取全部元素  第1维取全部元素  \n",
    "plt.show()"
   ]
  },
  {
   "cell_type": "code",
   "execution_count": 17,
   "metadata": {},
   "outputs": [
    {
     "data": {
      "text/plain": [
       "array([[ 16.08284024, -28.16568047],\n",
       "       [-28.16568047,  85.71597633]])"
      ]
     },
     "execution_count": 17,
     "metadata": {},
     "output_type": "execute_result"
    }
   ],
   "source": [
    "C = new_array_demean.T@new_array_demean/len(new_array)  #计算协方差矩阵  .T:转置  @:矩阵乘法\n",
    "C"
   ]
  },
  {
   "cell_type": "code",
   "execution_count": 18,
   "metadata": {},
   "outputs": [],
   "source": [
    "U,S,V = np.linalg.svd(C)    #奇异值分解计算特征值和特征向量"
   ]
  },
  {
   "cell_type": "code",
   "execution_count": 19,
   "metadata": {},
   "outputs": [
    {
     "data": {
      "text/plain": [
       "array([95.68220595,  6.11661061])"
      ]
     },
     "execution_count": 19,
     "metadata": {},
     "output_type": "execute_result"
    }
   ],
   "source": [
    "S"
   ]
  },
  {
   "cell_type": "code",
   "execution_count": 20,
   "metadata": {},
   "outputs": [
    {
     "data": {
      "text/plain": [
       "array([[-0.33357603,  0.9427232 ],\n",
       "       [ 0.9427232 ,  0.33357603]])"
      ]
     },
     "execution_count": 20,
     "metadata": {},
     "output_type": "execute_result"
    }
   ],
   "source": [
    "U"
   ]
  },
  {
   "cell_type": "code",
   "execution_count": 21,
   "metadata": {},
   "outputs": [
    {
     "name": "stdout",
     "output_type": "stream",
     "text": [
      "[-0.33357603  0.9427232 ]\n"
     ]
    }
   ],
   "source": [
    "U1=U[:,0]    # 将二维转化为一维，取第一个特征值的特征向量\n",
    "print(U1)"
   ]
  },
  {
   "cell_type": "code",
   "execution_count": 22,
   "metadata": {},
   "outputs": [],
   "source": [
    "new_array_reduction = new_array_demean@U1  #实现降维"
   ]
  },
  {
   "cell_type": "code",
   "execution_count": 23,
   "metadata": {},
   "outputs": [
    {
     "data": {
      "image/png": "[encoded data removed]",
      "text/plain": [
       "<Figure size 504x504 with 1 Axes>"
      ]
     },
     "metadata": {
      "needs_background": "light"
     },
     "output_type": "display_data"
    }
   ],
   "source": [
    "plt.figure(figsize=(7,7))   \n",
    "plt.scatter(new_array_demean[:,0],new_array_demean[:,1])  \n",
    "plt.plot([0,U1[0]],[0,U1[1]],c='y')      #画出特征向量\n",
    "plt.plot([0,U[:,1][0]],[0,U[:,1][1]],c='m')\n",
    "plt.show()"
   ]
  },
  {
   "cell_type": "code",
   "execution_count": 24,
   "metadata": {},
   "outputs": [],
   "source": [
    "new_array_restore = new_array_reduction.reshape(13,1)@U1.reshape(1,2)+np.mean(new_array,axis=0)   #还原数据"
   ]
  },
  {
   "cell_type": "code",
   "execution_count": 25,
   "metadata": {},
   "outputs": [
    {
     "data": {
      "text/plain": [
       "((13,), (2,))"
      ]
     },
     "execution_count": 25,
     "metadata": {},
     "output_type": "execute_result"
    }
   ],
   "source": [
    "new_array_reduction.shape,U1.shape  #读取数组长度，判断维度"
   ]
  },
  {
   "cell_type": "code",
   "execution_count": 26,
   "metadata": {},
   "outputs": [
    {
     "data": {
      "image/png": "[encoded data removed]",
      "text/plain": [
       "<Figure size 432x288 with 1 Axes>"
      ]
     },
     "metadata": {
      "needs_background": "light"
     },
     "output_type": "display_data"
    }
   ],
   "source": [
    "plt.scatter(new_array[:,0],new_array[:,1])     #降维前数据\n",
    "plt.scatter(new_array_restore[:,0],new_array_restore[:,1])    #应用算法后数据\n",
    "plt.show()"
   ]
  },
  {
   "cell_type": "code",
   "execution_count": 27,
   "metadata": {},
   "outputs": [
    {
     "name": "stdout",
     "output_type": "stream",
     "text": [
      "93.99%\n"
     ]
    }
   ],
   "source": [
    "# 查看保留差异\n",
    "rv=  np.sum(S[:1])/np.sum(S)\n",
    "print('{:.2f}%'.format(rv*100))\n",
    " "
   ]
  }
 ],
 "metadata": {
  "kernelspec": {
   "display_name": "Python 3.8.2 64-bit",
   "language": "python",
   "name": "python3"
  },
  "language_info": {
   "codemirror_mode": {
    "name": "ipython",
    "version": 3
   },
   "file_extension": ".py",
   "mimetype": "text/x-python",
   "name": "python",
   "nbconvert_exporter": "python",
   "pygments_lexer": "ipython3",
   "version": "3.8.2"
  },
  "orig_nbformat": 4,
  "vscode": {
   "interpreter": {
    "hash": "f0aff2940ba2c1f332a0d939276085247018ceea080d892981f4077d3ced65aa"
   }
  }
 },
 "nbformat": 4,
 "nbformat_minor": 2
}
