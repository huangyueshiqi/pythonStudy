{
 "cells": [
  {
   "cell_type": "code",
   "execution_count": 30,
   "metadata": {},
   "outputs": [
    {
     "data": {
      "text/plain": [
       "sys.version_info(major=3, minor=9, micro=0, releaselevel='final', serial=0)"
      ]
     },
     "execution_count": 30,
     "metadata": {},
     "output_type": "execute_result"
    }
   ],
   "source": [
    "import numpy as np\n",
    "import pandas as pd\n",
    "pd.set_option('display.max_rows', 500)    # 设置显示最大行数\n",
    "pd.set_option('display.max_columns', 100)  # 设置显示最大列数\n",
    "\n",
    "from itertools import product\n",
    "from sklearn.preprocessing import LabelEncoder\n",
    "\n",
    "import seaborn as sns\n",
    "import matplotlib.pyplot as plt\n",
    "#一个魔法函数,可以在Ipython编译器里直接使用，功能是可以内嵌绘图，并且可以省略掉plt.show()这一步。\n",
    "%matplotlib inline  \n",
    "\n",
    "from xgboost import XGBRegressor\n",
    "from xgboost import plot_importance\n",
    "\n",
    "def plot_features(booster, figsize):    # 绘制特征重要性曲线\n",
    "    fig, ax = plt.subplots(1,1,figsize=figsize)  #通过plt控制子图\n",
    "    return plot_importance(booster=booster, ax=ax,max_num_features=80)   #booster : model，ax :设置画布大小的时候用\n",
    "\n",
    "import time\n",
    "import sys\n",
    "import gc\n",
    "import pickle\n",
    "sys.version_info   #查询当前python版本号"
   ]
  },
  {
   "cell_type": "code",
   "execution_count": 21,
   "metadata": {},
   "outputs": [
    {
     "data": {
      "text/html": [
       "<div>\n",
       "<style scoped>\n",
       "    .dataframe tbody tr th:only-of-type {\n",
       "        vertical-align: middle;\n",
       "    }\n",
       "\n",
       "    .dataframe tbody tr th {\n",
       "        vertical-align: top;\n",
       "    }\n",
       "\n",
       "    .dataframe thead th {\n",
       "        text-align: right;\n",
       "    }\n",
       "</style>\n",
       "<table border=\"1\" class=\"dataframe\">\n",
       "  <thead>\n",
       "    <tr style=\"text-align: right;\">\n",
       "      <th></th>\n",
       "      <th>date</th>\n",
       "      <th>date_block_num</th>\n",
       "      <th>shop_id</th>\n",
       "      <th>item_id</th>\n",
       "      <th>item_price</th>\n",
       "      <th>item_cnt_day</th>\n",
       "    </tr>\n",
       "  </thead>\n",
       "  <tbody>\n",
       "    <tr>\n",
       "      <th>0</th>\n",
       "      <td>02.01.2013</td>\n",
       "      <td>0</td>\n",
       "      <td>59</td>\n",
       "      <td>22154</td>\n",
       "      <td>999.00</td>\n",
       "      <td>1.0</td>\n",
       "    </tr>\n",
       "    <tr>\n",
       "      <th>1</th>\n",
       "      <td>03.01.2013</td>\n",
       "      <td>0</td>\n",
       "      <td>25</td>\n",
       "      <td>2552</td>\n",
       "      <td>899.00</td>\n",
       "      <td>1.0</td>\n",
       "    </tr>\n",
       "    <tr>\n",
       "      <th>2</th>\n",
       "      <td>05.01.2013</td>\n",
       "      <td>0</td>\n",
       "      <td>25</td>\n",
       "      <td>2552</td>\n",
       "      <td>899.00</td>\n",
       "      <td>-1.0</td>\n",
       "    </tr>\n",
       "    <tr>\n",
       "      <th>3</th>\n",
       "      <td>06.01.2013</td>\n",
       "      <td>0</td>\n",
       "      <td>25</td>\n",
       "      <td>2554</td>\n",
       "      <td>1709.05</td>\n",
       "      <td>1.0</td>\n",
       "    </tr>\n",
       "    <tr>\n",
       "      <th>4</th>\n",
       "      <td>15.01.2013</td>\n",
       "      <td>0</td>\n",
       "      <td>25</td>\n",
       "      <td>2555</td>\n",
       "      <td>1099.00</td>\n",
       "      <td>1.0</td>\n",
       "    </tr>\n",
       "  </tbody>\n",
       "</table>\n",
       "</div>"
      ],
      "text/plain": [
       "         date  date_block_num  shop_id  item_id  item_price  item_cnt_day\n",
       "0  02.01.2013               0       59    22154      999.00           1.0\n",
       "1  03.01.2013               0       25     2552      899.00           1.0\n",
       "2  05.01.2013               0       25     2552      899.00          -1.0\n",
       "3  06.01.2013               0       25     2554     1709.05           1.0\n",
       "4  15.01.2013               0       25     2555     1099.00           1.0"
      ]
     },
     "execution_count": 21,
     "metadata": {},
     "output_type": "execute_result"
    }
   ],
   "source": [
    "#读取数据\n",
    "items = pd.read_csv('items.csv')   #商品的补充数据集（包含商品名称和所属分类字段）\n",
    "shops = pd.read_csv('shops.csv')    #商店信息的补充数据集（包含商店所在城市和商店规模的信息）\n",
    "cats = pd.read_csv('item_categories.csv')   #商品类目的补充数据集（包含商品所属类目的详细信息）\n",
    "train = pd.read_csv('sales_train.csv')  #训练集（包含2013年1月至2015年10月间每天各商店各商品的销量）\n",
    "# set index to ID to avoid droping it later\n",
    "test  = pd.read_csv('test.csv').set_index('ID')   #测试集（需要预测的接下来的2015年11月份的各商店的商品销量）"
   ]
  },
  {
   "cell_type": "code",
   "execution_count": 84,
   "metadata": {},
   "outputs": [
    {
     "data": {
      "text/plain": [
       "<AxesSubplot:xlabel='item_price'>"
      ]
     },
     "execution_count": 84,
     "metadata": {},
     "output_type": "execute_result"
    },
    {
     "data": {
      "image/png": "[encoded data removed]",
      "text/plain": [
       "<Figure size 720x288 with 1 Axes>"
      ]
     },
     "metadata": {
      "needs_background": "light"
     },
     "output_type": "display_data"
    },
    {
     "data": {
      "image/png": "[encoded data removed]",
      "text/plain": [
       "<Figure size 720x288 with 1 Axes>"
      ]
     },
     "metadata": {
      "needs_background": "light"
     },
     "output_type": "display_data"
    }
   ],
   "source": [
    "plt.figure(figsize=(10,4))  #生成了一个画板\n",
    "plt.xlim(-100, 3000)   #显示的是x轴的作图范围\n",
    "sns.boxplot(x=train.item_cnt_day)  #箱形图\n",
    "\n",
    "plt.figure(figsize=(10,4))\n",
    "plt.xlim(train.item_price.min(), train.item_price.max()*1.1)\n",
    "sns.boxplot(x=train.item_price)"
   ]
  },
  {
   "cell_type": "code",
   "execution_count": 86,
   "metadata": {},
   "outputs": [
    {
     "name": "stdout",
     "output_type": "stream",
     "text": [
      "              date  date_block_num  shop_id  item_id  item_price  item_cnt_day\n",
      "37589   12.01.2013               0        0    11059        73.0           1.0\n",
      "37590   22.01.2013               0        0    11059        73.0           1.0\n",
      "37591   26.01.2013               0        0    11059        73.0           1.0\n",
      "37592   12.01.2013               0        0    11347       170.0           1.0\n",
      "37593   22.01.2013               0        0    11347       170.0           1.0\n",
      "...            ...             ...      ...      ...         ...           ...\n",
      "183257  22.02.2013               1        0    13460      1228.0           2.0\n",
      "183258  21.02.2013               1        0    13460      1228.0           1.0\n",
      "183259  20.02.2013               1        0    13460      1228.0           1.0\n",
      "183260  17.02.2013               1        0    13460      1228.0           1.0\n",
      "183261  16.02.2013               1        0    12607        76.0           1.0\n",
      "\n",
      "[9857 rows x 6 columns]\n"
     ]
    }
   ],
   "source": [
    "#异常值处理，去除商品价格>100000和单日销量>10001的数据\n",
    "train = train[train.item_price<100000]\n",
    "train = train[train.item_cnt_day<1001]\n",
    "print(train[(train.shop_id==0)])\n",
    "# sum of the sales"
   ]
  },
  {
   "cell_type": "code",
   "execution_count": 5,
   "metadata": {},
   "outputs": [],
   "source": [
    "#有一件商品的价格小于0，用中位数填充\n",
    "median = train[(train.shop_id==32)&(train.item_id==2973)&(train.date_block_num==4)&(train.item_price>0)].item_price.median()  #选取相同商店和相同商品id和相同月份的商品价格数据求中位数\n",
    "train.loc[train.item_price<0, 'item_price'] = median  #选取item-price所有行，取价格<0的数据"
   ]
  },
  {
   "cell_type": "code",
   "execution_count": 77,
   "metadata": {},
   "outputs": [],
   "source": [
    "#几家商店根据它们的名称发现互相重复，修复训练集和测试集\n",
    "# Якутск Орджоникидзе, 56\n",
    "train.loc[train.shop_id == 0, 'shop_id'] = 57   #替换\n",
    "test.loc[test.shop_id == 0, 'shop_id'] = 57\n",
    "# Якутск ТЦ \"Центральный\"\n",
    "train.loc[train.shop_id == 1, 'shop_id'] = 58\n",
    "test.loc[test.shop_id == 1, 'shop_id'] = 58\n",
    "# Жуковский ул. Чкалова 39м²\n",
    "train.loc[train.shop_id == 10, 'shop_id'] = 11\n",
    "test.loc[test.shop_id == 10, 'shop_id'] = 11"
   ]
  },
  {
   "cell_type": "code",
   "execution_count": 90,
   "metadata": {},
   "outputs": [],
   "source": [
    "#shops/cats/items预处理\n",
    "#每个商店名以城市名开头\n",
    "#每个类别名称中包含类型和子类型\n",
    "#将一些低级类别特征（如城市、类型、子类型）进行一次性编码是合理的，因为 xgb 将标签编码的特征处理为数字特征。避免创建更多的特征列\n",
    "shops.loc[shops.shop_name == 'Сергиев Посад ТЦ \"7Я\"', 'shop_name'] = 'СергиевПосад ТЦ \"7Я\"'  #同一个商店。两种名称的处理\n",
    "shops['city'] = shops['shop_name'].str.split(' ').map(lambda x: x[0])   #返回城市的list\n",
    "shops.loc[shops.city == '!Якутск', 'city'] = 'Якутск'   #城市名处理\n",
    "shops['city_code'] = LabelEncoder().fit_transform(shops['city'])    #标准化编码，\n",
    "shops = shops[['shop_id','city_code']]    #shop_name转化为city编码\n",
    "\n",
    "#先拆分大类\n",
    "cats['split'] = cats['item_category_name'].str.split('-')  \n",
    "cats['type'] = cats['split'].map(lambda x: x[0].strip()) #去除空格\n",
    "cats['type_code'] = LabelEncoder().fit_transform(cats['type'])\n",
    "# 再拆分子类\n",
    "cats['subtype'] = cats['split'].map(lambda x: x[1].strip() if len(x) > 1 else x[0].strip())\n",
    "cats['subtype_code'] = LabelEncoder().fit_transform(cats['subtype'])\n",
    "cats = cats[['item_category_id','type_code', 'subtype_code']]\n",
    "\n",
    "items.drop(['item_name'], axis=1, inplace=True)  #删除商品名称列，商品类别特征已经通过item-category得到"
   ]
  },
  {
   "cell_type": "code",
   "execution_count": 8,
   "metadata": {},
   "outputs": [
    {
     "data": {
      "text/plain": [
       "(363, 5100, 214200)"
      ]
     },
     "execution_count": 8,
     "metadata": {},
     "output_type": "execute_result"
    }
   ],
   "source": [
    "#测试集是一些商店和商品在34个月内的数据。5100件商品* 42家店铺= 214200组合。与训练集相比，有363个商品是新的。\n",
    "# 因此，对于测试集中的大多数商品，目标值应该为零。另一方面，训练集只包含过去出售或退回的组合。\n",
    "# 主要的想法是计算每月的销售额，并将每一个特别的组合扩展为零销售额。这样，训练数据就会类似于测试数据。\n",
    "len(list(set(test.item_id) - set(test.item_id).intersection(set(train.item_id)))), len(list(set(test.item_id))), len(test) #intersection：求交集\n",
    "#找到test里面有363新的id，训练集的总的商品数5100 ，总共的商品-商店组合数214200"
   ]
  },
  {
   "cell_type": "code",
   "execution_count": 96,
   "metadata": {},
   "outputs": [
    {
     "data": {
      "text/plain": [
       "9.675060510635376"
      ]
     },
     "execution_count": 96,
     "metadata": {},
     "output_type": "execute_result"
    }
   ],
   "source": [
    "ts = time.time()  #获取当前模块运行时间\n",
    "matrix = []\n",
    "cols = ['date_block_num','shop_id','item_id']\n",
    "for i in range(34):\n",
    "    sales = train[train.date_block_num==i] #分开各个月份的销售额，date_block_num与ID联动，用来区分每个月\n",
    "    matrix.append(np.array(list(product([i], sales.shop_id.unique(), sales.item_id.unique())), dtype='int16')) #product产生相应的商品-商店对\n",
    "#dtype：指定类型，节省了所需的内存和计算资源\n",
    "matrix = pd.DataFrame(np.vstack(matrix), columns=cols)#按行融合，构造与test相同的集合\n",
    "matrix['date_block_num'] = matrix['date_block_num'].astype(np.int8)\n",
    "matrix['shop_id'] = matrix['shop_id'].astype(np.int8)\n",
    "matrix['item_id'] = matrix['item_id'].astype(np.int16)\n",
    "matrix.sort_values(cols,inplace=True)\n",
    "time.time() - ts  #获取当前模块运行时间"
   ]
  },
  {
   "cell_type": "code",
   "execution_count": 101,
   "metadata": {},
   "outputs": [],
   "source": [
    "#通过聚合商店/商品组合对训练集来计算目标聚集，然后对目标值以（0，20）剪切-------（0,20）根据evaluation要求\n",
    "#item_cnt_month使用float代替int，避免连接test时向下转换。如果是int16，在与NaN值连接后，将变成int64.如果是float16，连接后将不变\n",
    "train['revenue'] = train['item_price'] *  train['item_cnt_day']  #计算利润"
   ]
  },
  {
   "cell_type": "code",
   "execution_count": 99,
   "metadata": {},
   "outputs": [
    {
     "data": {
      "text/plain": [
       "4.8712592124938965"
      ]
     },
     "execution_count": 99,
     "metadata": {},
     "output_type": "execute_result"
    }
   ],
   "source": [
    "ts = time.time()\n",
    "group = train.groupby(['date_block_num','shop_id','item_id']).agg({'item_cnt_day': ['sum']}) #groupby聚合，agg统计计算\n",
    "group.columns = ['item_cnt_month']\n",
    "group.reset_index(inplace=True)#数据清洗时,会将带空值的行删除,此时DataFrame或Series类型的数据不再是连续的索引,可以使用reset_index()重置索引。\n",
    "matrix = pd.merge(matrix, group, on=cols, how='left')#同时存在三个key的值才能合并\n",
    "matrix['item_cnt_month'] = (matrix['item_cnt_month']\n",
    "                                .fillna(0)\n",
    "                                .clip(0,20) #  # 小于0的设为0，大于20的设为20,大于20的设为20,总共3\n",
    "                                .astype(np.float16))\n",
    "time.time() - ts"
   ]
  },
  {
   "cell_type": "code",
   "execution_count": 104,
   "metadata": {},
   "outputs": [],
   "source": [
    "#设置测试集\n",
    "test['date_block_num'] = 34\n",
    "#指定类型，节省了所需的内存和计算资源\n",
    "test['date_block_num'] = test['date_block_num'].astype(np.int8)#给test集合增加date_block_num特征第34个月份\n",
    "test['shop_id'] = test['shop_id'].astype(np.int8)\n",
    "test['item_id'] = test['item_id'].astype(np.int16)"
   ]
  },
  {
   "cell_type": "code",
   "execution_count": 108,
   "metadata": {},
   "outputs": [
    {
     "data": {
      "text/plain": [
       "0.8454201221466064"
      ]
     },
     "execution_count": 108,
     "metadata": {},
     "output_type": "execute_result"
    }
   ],
   "source": [
    "#把测试集加到matrix上\n",
    "ts = time.time()\n",
    "matrix = pd.concat([matrix, test], ignore_index=True, sort=False, keys=cols)\n",
    "matrix.fillna(0, inplace=True) # 34 month,填充缺失值\n",
    "time.time() - ts"
   ]
  },
  {
   "cell_type": "code",
   "execution_count": 14,
   "metadata": {},
   "outputs": [
    {
     "data": {
      "text/plain": [
       "3.781156063079834"
      ]
     },
     "execution_count": 14,
     "metadata": {},
     "output_type": "execute_result"
    }
   ],
   "source": [
    "#Shops/Items/Cats features\n",
    "#需要将各个数据集以及构造出来的特征合并起来，\n",
    "ts = time.time()\n",
    "matrix = pd.merge(matrix, shops, on=['shop_id'], how='left')  #类似于sql中jion字段\n",
    "matrix = pd.merge(matrix, items, on=['item_id'], how='left')\n",
    "matrix = pd.merge(matrix, cats, on=['item_category_id'], how='left')\n",
    "matrix['city_code'] = matrix['city_code'].astype(np.int8)\n",
    "matrix['item_category_id'] = matrix['item_category_id'].astype(np.int8)\n",
    "matrix['type_code'] = matrix['type_code'].astype(np.int8)\n",
    "matrix['subtype_code'] = matrix['subtype_code'].astype(np.int8)\n",
    "time.time() - ts"
   ]
  },
  {
   "cell_type": "code",
   "execution_count": 116,
   "metadata": {},
   "outputs": [],
   "source": [
    "#滞后特征，预测零销售额\n",
    "#有时候将某个特征滞后一定时间后， 得到一个新的特征， 可能会与目标变量有更强的相关性\n",
    "#我们思考“今天跟昨天一样”就是滞后，能帮助获取变量的时间趋势\n",
    "def lag_feature(df, lags, col):\n",
    "    tmp = df[['date_block_num','shop_id','item_id',col]]\n",
    "    for i in lags:\n",
    "        shifted = tmp.copy()\n",
    "        shifted.columns = ['date_block_num','shop_id','item_id', col+'_lag_'+str(i)]\n",
    "        shifted['date_block_num'] += i\n",
    "        df = pd.merge(df, shifted, on=['date_block_num','shop_id','item_id'], how='left')\n",
    "    return df"
   ]
  },
  {
   "cell_type": "code",
   "execution_count": 1,
   "metadata": {},
   "outputs": [
    {
     "ename": "NameError",
     "evalue": "name 'time' is not defined",
     "output_type": "error",
     "traceback": [
      "\u001b[1;31m---------------------------------------------------------------------------\u001b[0m",
      "\u001b[1;31mNameError\u001b[0m                                 Traceback (most recent call last)",
      "\u001b[1;32md:\\desktop\\pythonStudy\\sales-p\\xgb_pre.ipynb Cell 20\u001b[0m in \u001b[0;36m<cell line: 1>\u001b[1;34m()\u001b[0m\n\u001b[1;32m----> <a href='vscode-notebook-cell:/d%3A/desktop/pythonStudy/sales-p/xgb_pre.ipynb#X25sZmlsZQ%3D%3D?line=0'>1</a>\u001b[0m ts \u001b[39m=\u001b[39m time\u001b[39m.\u001b[39mtime()\n\u001b[0;32m      <a href='vscode-notebook-cell:/d%3A/desktop/pythonStudy/sales-p/xgb_pre.ipynb#X25sZmlsZQ%3D%3D?line=1'>2</a>\u001b[0m matrix \u001b[39m=\u001b[39m lag_feature(matrix, [\u001b[39m1\u001b[39m,\u001b[39m2\u001b[39m,\u001b[39m3\u001b[39m,\u001b[39m6\u001b[39m,\u001b[39m12\u001b[39m], \u001b[39m'\u001b[39m\u001b[39mitem_cnt_month\u001b[39m\u001b[39m'\u001b[39m)\n\u001b[0;32m      <a href='vscode-notebook-cell:/d%3A/desktop/pythonStudy/sales-p/xgb_pre.ipynb#X25sZmlsZQ%3D%3D?line=2'>3</a>\u001b[0m time\u001b[39m.\u001b[39mtime() \u001b[39m-\u001b[39m ts\n",
      "\u001b[1;31mNameError\u001b[0m: name 'time' is not defined"
     ]
    }
   ],
   "source": [
    "ts = time.time()\n",
    "matrix = lag_feature(matrix, [1,2,3,6,12], 'item_cnt_month')\n",
    "time.time() - ts"
   ]
  },
  {
   "cell_type": "code",
   "execution_count": null,
   "metadata": {},
   "outputs": [
    {
     "ename": "MemoryError",
     "evalue": "Unable to allocate 586. MiB for an array with shape (2, 38432886) and data type int64",
     "output_type": "error",
     "traceback": [
      "\u001b[1;31m---------------------------------------------------------------------------\u001b[0m",
      "\u001b[1;31mMemoryError\u001b[0m                               Traceback (most recent call last)",
      "\u001b[1;32md:\\desktop\\pythonStudy\\sales-p\\xgb_pre.ipynb Cell 21\u001b[0m in \u001b[0;36m<cell line: 10>\u001b[1;34m()\u001b[0m\n\u001b[0;32m      <a href='vscode-notebook-cell:/d%3A/desktop/pythonStudy/sales-p/xgb_pre.ipynb#X22sZmlsZQ%3D%3D?line=7'>8</a>\u001b[0m matrix \u001b[39m=\u001b[39m pd\u001b[39m.\u001b[39mmerge(matrix, group, on\u001b[39m=\u001b[39m[\u001b[39m'\u001b[39m\u001b[39mdate_block_num\u001b[39m\u001b[39m'\u001b[39m], how\u001b[39m=\u001b[39m\u001b[39m'\u001b[39m\u001b[39mleft\u001b[39m\u001b[39m'\u001b[39m)\n\u001b[0;32m      <a href='vscode-notebook-cell:/d%3A/desktop/pythonStudy/sales-p/xgb_pre.ipynb#X22sZmlsZQ%3D%3D?line=8'>9</a>\u001b[0m matrix[\u001b[39m'\u001b[39m\u001b[39mdate_avg_item_cnt\u001b[39m\u001b[39m'\u001b[39m] \u001b[39m=\u001b[39m matrix[\u001b[39m'\u001b[39m\u001b[39mdate_avg_item_cnt\u001b[39m\u001b[39m'\u001b[39m]\u001b[39m.\u001b[39mastype(np\u001b[39m.\u001b[39mfloat16)\n\u001b[1;32m---> <a href='vscode-notebook-cell:/d%3A/desktop/pythonStudy/sales-p/xgb_pre.ipynb#X22sZmlsZQ%3D%3D?line=9'>10</a>\u001b[0m matrix \u001b[39m=\u001b[39m lag_feature(matrix, [\u001b[39m1\u001b[39;49m], \u001b[39m'\u001b[39;49m\u001b[39mdate_avg_item_cnt\u001b[39;49m\u001b[39m'\u001b[39;49m) \u001b[39m#增加一行date_num最后的平均值，为上个data_num的值\u001b[39;00m\n\u001b[0;32m     <a href='vscode-notebook-cell:/d%3A/desktop/pythonStudy/sales-p/xgb_pre.ipynb#X22sZmlsZQ%3D%3D?line=10'>11</a>\u001b[0m matrix\u001b[39m.\u001b[39mdrop([\u001b[39m'\u001b[39m\u001b[39mdate_avg_item_cnt\u001b[39m\u001b[39m'\u001b[39m], axis\u001b[39m=\u001b[39m\u001b[39m1\u001b[39m, inplace\u001b[39m=\u001b[39m\u001b[39mTrue\u001b[39;00m)\u001b[39m#删除均值类，变成具有标注后的列\u001b[39;00m\n\u001b[0;32m     <a href='vscode-notebook-cell:/d%3A/desktop/pythonStudy/sales-p/xgb_pre.ipynb#X22sZmlsZQ%3D%3D?line=11'>12</a>\u001b[0m time\u001b[39m.\u001b[39mtime() \u001b[39m-\u001b[39m ts\n",
      "\u001b[1;32md:\\desktop\\pythonStudy\\sales-p\\xgb_pre.ipynb Cell 21\u001b[0m in \u001b[0;36mlag_feature\u001b[1;34m(df, lags, col)\u001b[0m\n\u001b[0;32m      <a href='vscode-notebook-cell:/d%3A/desktop/pythonStudy/sales-p/xgb_pre.ipynb#X22sZmlsZQ%3D%3D?line=4'>5</a>\u001b[0m     shifted\u001b[39m.\u001b[39mcolumns \u001b[39m=\u001b[39m [\u001b[39m'\u001b[39m\u001b[39mdate_block_num\u001b[39m\u001b[39m'\u001b[39m,\u001b[39m'\u001b[39m\u001b[39mshop_id\u001b[39m\u001b[39m'\u001b[39m,\u001b[39m'\u001b[39m\u001b[39mitem_id\u001b[39m\u001b[39m'\u001b[39m, col\u001b[39m+\u001b[39m\u001b[39m'\u001b[39m\u001b[39m_lag_\u001b[39m\u001b[39m'\u001b[39m\u001b[39m+\u001b[39m\u001b[39mstr\u001b[39m(i)]\n\u001b[0;32m      <a href='vscode-notebook-cell:/d%3A/desktop/pythonStudy/sales-p/xgb_pre.ipynb#X22sZmlsZQ%3D%3D?line=5'>6</a>\u001b[0m     shifted[\u001b[39m'\u001b[39m\u001b[39mdate_block_num\u001b[39m\u001b[39m'\u001b[39m] \u001b[39m+\u001b[39m\u001b[39m=\u001b[39m i\n\u001b[1;32m----> <a href='vscode-notebook-cell:/d%3A/desktop/pythonStudy/sales-p/xgb_pre.ipynb#X22sZmlsZQ%3D%3D?line=6'>7</a>\u001b[0m     df \u001b[39m=\u001b[39m pd\u001b[39m.\u001b[39;49mmerge(df, shifted, on\u001b[39m=\u001b[39;49m[\u001b[39m'\u001b[39;49m\u001b[39mdate_block_num\u001b[39;49m\u001b[39m'\u001b[39;49m,\u001b[39m'\u001b[39;49m\u001b[39mshop_id\u001b[39;49m\u001b[39m'\u001b[39;49m,\u001b[39m'\u001b[39;49m\u001b[39mitem_id\u001b[39;49m\u001b[39m'\u001b[39;49m], how\u001b[39m=\u001b[39;49m\u001b[39m'\u001b[39;49m\u001b[39mleft\u001b[39;49m\u001b[39m'\u001b[39;49m)\n\u001b[0;32m      <a href='vscode-notebook-cell:/d%3A/desktop/pythonStudy/sales-p/xgb_pre.ipynb#X22sZmlsZQ%3D%3D?line=7'>8</a>\u001b[0m \u001b[39mreturn\u001b[39;00m df\n",
      "File \u001b[1;32mD:\\python\\python3.9\\Lib\\site-packages\\pandas\\core\\reshape\\merge.py:107\u001b[0m, in \u001b[0;36mmerge\u001b[1;34m(left, right, how, on, left_on, right_on, left_index, right_index, sort, suffixes, copy, indicator, validate)\u001b[0m\n\u001b[0;32m     90\u001b[0m \u001b[39m@Substitution\u001b[39m(\u001b[39m\"\u001b[39m\u001b[39m\\n\u001b[39;00m\u001b[39mleft : DataFrame or named Series\u001b[39m\u001b[39m\"\u001b[39m)\n\u001b[0;32m     91\u001b[0m \u001b[39m@Appender\u001b[39m(_merge_doc, indents\u001b[39m=\u001b[39m\u001b[39m0\u001b[39m)\n\u001b[0;32m     92\u001b[0m \u001b[39mdef\u001b[39;00m \u001b[39mmerge\u001b[39m(\n\u001b[1;32m   (...)\u001b[0m\n\u001b[0;32m    105\u001b[0m     validate: \u001b[39mstr\u001b[39m \u001b[39m|\u001b[39m \u001b[39mNone\u001b[39;00m \u001b[39m=\u001b[39m \u001b[39mNone\u001b[39;00m,\n\u001b[0;32m    106\u001b[0m ) \u001b[39m-\u001b[39m\u001b[39m>\u001b[39m DataFrame:\n\u001b[1;32m--> 107\u001b[0m     op \u001b[39m=\u001b[39m _MergeOperation(\n\u001b[0;32m    108\u001b[0m         left,\n\u001b[0;32m    109\u001b[0m         right,\n\u001b[0;32m    110\u001b[0m         how\u001b[39m=\u001b[39;49mhow,\n\u001b[0;32m    111\u001b[0m         on\u001b[39m=\u001b[39;49mon,\n\u001b[0;32m    112\u001b[0m         left_on\u001b[39m=\u001b[39;49mleft_on,\n\u001b[0;32m    113\u001b[0m         right_on\u001b[39m=\u001b[39;49mright_on,\n\u001b[0;32m    114\u001b[0m         left_index\u001b[39m=\u001b[39;49mleft_index,\n\u001b[0;32m    115\u001b[0m         right_index\u001b[39m=\u001b[39;49mright_index,\n\u001b[0;32m    116\u001b[0m         sort\u001b[39m=\u001b[39;49msort,\n\u001b[0;32m    117\u001b[0m         suffixes\u001b[39m=\u001b[39;49msuffixes,\n\u001b[0;32m    118\u001b[0m         copy\u001b[39m=\u001b[39;49mcopy,\n\u001b[0;32m    119\u001b[0m         indicator\u001b[39m=\u001b[39;49mindicator,\n\u001b[0;32m    120\u001b[0m         validate\u001b[39m=\u001b[39;49mvalidate,\n\u001b[0;32m    121\u001b[0m     )\n\u001b[0;32m    122\u001b[0m     \u001b[39mreturn\u001b[39;00m op\u001b[39m.\u001b[39mget_result()\n",
      "File \u001b[1;32mD:\\python\\python3.9\\Lib\\site-packages\\pandas\\core\\reshape\\merge.py:700\u001b[0m, in \u001b[0;36m_MergeOperation.__init__\u001b[1;34m(self, left, right, how, on, left_on, right_on, axis, left_index, right_index, sort, suffixes, copy, indicator, validate)\u001b[0m\n\u001b[0;32m    693\u001b[0m \u001b[39mself\u001b[39m\u001b[39m.\u001b[39m_cross \u001b[39m=\u001b[39m cross_col\n\u001b[0;32m    695\u001b[0m \u001b[39m# note this function has side effects\u001b[39;00m\n\u001b[0;32m    696\u001b[0m (\n\u001b[0;32m    697\u001b[0m     \u001b[39mself\u001b[39m\u001b[39m.\u001b[39mleft_join_keys,\n\u001b[0;32m    698\u001b[0m     \u001b[39mself\u001b[39m\u001b[39m.\u001b[39mright_join_keys,\n\u001b[0;32m    699\u001b[0m     \u001b[39mself\u001b[39m\u001b[39m.\u001b[39mjoin_names,\n\u001b[1;32m--> 700\u001b[0m ) \u001b[39m=\u001b[39m \u001b[39mself\u001b[39;49m\u001b[39m.\u001b[39;49m_get_merge_keys()\n\u001b[0;32m    702\u001b[0m \u001b[39m# validate the merge keys dtypes. We may need to coerce\u001b[39;00m\n\u001b[0;32m    703\u001b[0m \u001b[39m# to avoid incompatible dtypes\u001b[39;00m\n\u001b[0;32m    704\u001b[0m \u001b[39mself\u001b[39m\u001b[39m.\u001b[39m_maybe_coerce_merge_keys()\n",
      "File \u001b[1;32mD:\\python\\python3.9\\Lib\\site-packages\\pandas\\core\\reshape\\merge.py:1155\u001b[0m, in \u001b[0;36m_MergeOperation._get_merge_keys\u001b[1;34m(self)\u001b[0m\n\u001b[0;32m   1152\u001b[0m     \u001b[39mself\u001b[39m\u001b[39m.\u001b[39mleft \u001b[39m=\u001b[39m \u001b[39mself\u001b[39m\u001b[39m.\u001b[39mleft\u001b[39m.\u001b[39m_drop_labels_or_levels(left_drop)\n\u001b[0;32m   1154\u001b[0m \u001b[39mif\u001b[39;00m right_drop:\n\u001b[1;32m-> 1155\u001b[0m     \u001b[39mself\u001b[39m\u001b[39m.\u001b[39mright \u001b[39m=\u001b[39m \u001b[39mself\u001b[39;49m\u001b[39m.\u001b[39;49mright\u001b[39m.\u001b[39;49m_drop_labels_or_levels(right_drop)\n\u001b[0;32m   1157\u001b[0m \u001b[39mreturn\u001b[39;00m left_keys, right_keys, join_names\n",
      "File \u001b[1;32mD:\\python\\python3.9\\Lib\\site-packages\\pandas\\core\\generic.py:1910\u001b[0m, in \u001b[0;36mNDFrame._drop_labels_or_levels\u001b[1;34m(self, keys, axis)\u001b[0m\n\u001b[0;32m   1905\u001b[0m labels_to_drop \u001b[39m=\u001b[39m [k \u001b[39mfor\u001b[39;00m k \u001b[39min\u001b[39;00m keys \u001b[39mif\u001b[39;00m \u001b[39mnot\u001b[39;00m \u001b[39mself\u001b[39m\u001b[39m.\u001b[39m_is_level_reference(k, axis\u001b[39m=\u001b[39maxis)]\n\u001b[0;32m   1907\u001b[0m \u001b[39m# Perform copy upfront and then use inplace operations below.\u001b[39;00m\n\u001b[0;32m   1908\u001b[0m \u001b[39m# This ensures that we always perform exactly one copy.\u001b[39;00m\n\u001b[0;32m   1909\u001b[0m \u001b[39m# ``copy`` and/or ``inplace`` options could be added in the future.\u001b[39;00m\n\u001b[1;32m-> 1910\u001b[0m dropped \u001b[39m=\u001b[39m \u001b[39mself\u001b[39;49m\u001b[39m.\u001b[39;49mcopy()\n\u001b[0;32m   1912\u001b[0m \u001b[39mif\u001b[39;00m axis \u001b[39m==\u001b[39m \u001b[39m0\u001b[39m:\n\u001b[0;32m   1913\u001b[0m     \u001b[39m# Handle dropping index levels\u001b[39;00m\n\u001b[0;32m   1914\u001b[0m     \u001b[39mif\u001b[39;00m levels_to_drop:\n",
      "File \u001b[1;32mD:\\python\\python3.9\\Lib\\site-packages\\pandas\\core\\generic.py:6032\u001b[0m, in \u001b[0;36mNDFrame.copy\u001b[1;34m(self, deep)\u001b[0m\n\u001b[0;32m   5926\u001b[0m \u001b[39m@final\u001b[39m\n\u001b[0;32m   5927\u001b[0m \u001b[39mdef\u001b[39;00m \u001b[39mcopy\u001b[39m(\u001b[39mself\u001b[39m: NDFrameT, deep: bool_t \u001b[39m=\u001b[39m \u001b[39mTrue\u001b[39;00m) \u001b[39m-\u001b[39m\u001b[39m>\u001b[39m NDFrameT:\n\u001b[0;32m   5928\u001b[0m     \u001b[39m\"\"\"\u001b[39;00m\n\u001b[0;32m   5929\u001b[0m \u001b[39m    Make a copy of this object's indices and data.\u001b[39;00m\n\u001b[0;32m   5930\u001b[0m \n\u001b[1;32m   (...)\u001b[0m\n\u001b[0;32m   6030\u001b[0m \u001b[39m    dtype: object\u001b[39;00m\n\u001b[0;32m   6031\u001b[0m \u001b[39m    \"\"\"\u001b[39;00m\n\u001b[1;32m-> 6032\u001b[0m     data \u001b[39m=\u001b[39m \u001b[39mself\u001b[39;49m\u001b[39m.\u001b[39;49m_mgr\u001b[39m.\u001b[39;49mcopy(deep\u001b[39m=\u001b[39;49mdeep)\n\u001b[0;32m   6033\u001b[0m     \u001b[39mself\u001b[39m\u001b[39m.\u001b[39m_clear_item_cache()\n\u001b[0;32m   6034\u001b[0m     \u001b[39mreturn\u001b[39;00m \u001b[39mself\u001b[39m\u001b[39m.\u001b[39m_constructor(data)\u001b[39m.\u001b[39m__finalize__(\u001b[39mself\u001b[39m, method\u001b[39m=\u001b[39m\u001b[39m\"\u001b[39m\u001b[39mcopy\u001b[39m\u001b[39m\"\u001b[39m)\n",
      "File \u001b[1;32mD:\\python\\python3.9\\Lib\\site-packages\\pandas\\core\\internals\\managers.py:603\u001b[0m, in \u001b[0;36mBaseBlockManager.copy\u001b[1;34m(self, deep)\u001b[0m\n\u001b[0;32m    600\u001b[0m \u001b[39melse\u001b[39;00m:\n\u001b[0;32m    601\u001b[0m     new_axes \u001b[39m=\u001b[39m \u001b[39mlist\u001b[39m(\u001b[39mself\u001b[39m\u001b[39m.\u001b[39maxes)\n\u001b[1;32m--> 603\u001b[0m res \u001b[39m=\u001b[39m \u001b[39mself\u001b[39;49m\u001b[39m.\u001b[39;49mapply(\u001b[39m\"\u001b[39;49m\u001b[39mcopy\u001b[39;49m\u001b[39m\"\u001b[39;49m, deep\u001b[39m=\u001b[39;49mdeep)\n\u001b[0;32m    605\u001b[0m res\u001b[39m.\u001b[39maxes \u001b[39m=\u001b[39m new_axes\n\u001b[0;32m    607\u001b[0m \u001b[39mif\u001b[39;00m \u001b[39mself\u001b[39m\u001b[39m.\u001b[39mndim \u001b[39m>\u001b[39m \u001b[39m1\u001b[39m:\n\u001b[0;32m    608\u001b[0m     \u001b[39m# Avoid needing to re-compute these\u001b[39;00m\n",
      "File \u001b[1;32mD:\\python\\python3.9\\Lib\\site-packages\\pandas\\core\\internals\\managers.py:304\u001b[0m, in \u001b[0;36mBaseBlockManager.apply\u001b[1;34m(self, f, align_keys, ignore_failures, **kwargs)\u001b[0m\n\u001b[0;32m    302\u001b[0m         applied \u001b[39m=\u001b[39m b\u001b[39m.\u001b[39mapply(f, \u001b[39m*\u001b[39m\u001b[39m*\u001b[39mkwargs)\n\u001b[0;32m    303\u001b[0m     \u001b[39melse\u001b[39;00m:\n\u001b[1;32m--> 304\u001b[0m         applied \u001b[39m=\u001b[39m \u001b[39mgetattr\u001b[39m(b, f)(\u001b[39m*\u001b[39m\u001b[39m*\u001b[39mkwargs)\n\u001b[0;32m    305\u001b[0m \u001b[39mexcept\u001b[39;00m (\u001b[39mTypeError\u001b[39;00m, \u001b[39mNotImplementedError\u001b[39;00m):\n\u001b[0;32m    306\u001b[0m     \u001b[39mif\u001b[39;00m \u001b[39mnot\u001b[39;00m ignore_failures:\n",
      "File \u001b[1;32mD:\\python\\python3.9\\Lib\\site-packages\\pandas\\core\\internals\\blocks.py:643\u001b[0m, in \u001b[0;36mBlock.copy\u001b[1;34m(self, deep)\u001b[0m\n\u001b[0;32m    641\u001b[0m values \u001b[39m=\u001b[39m \u001b[39mself\u001b[39m\u001b[39m.\u001b[39mvalues\n\u001b[0;32m    642\u001b[0m \u001b[39mif\u001b[39;00m deep:\n\u001b[1;32m--> 643\u001b[0m     values \u001b[39m=\u001b[39m values\u001b[39m.\u001b[39;49mcopy()\n\u001b[0;32m    644\u001b[0m \u001b[39mreturn\u001b[39;00m \u001b[39mtype\u001b[39m(\u001b[39mself\u001b[39m)(values, placement\u001b[39m=\u001b[39m\u001b[39mself\u001b[39m\u001b[39m.\u001b[39m_mgr_locs, ndim\u001b[39m=\u001b[39m\u001b[39mself\u001b[39m\u001b[39m.\u001b[39mndim)\n",
      "\u001b[1;31mMemoryError\u001b[0m: Unable to allocate 586. MiB for an array with shape (2, 38432886) and data type int64"
     ]
    }
   ],
   "source": [
    "#目标值处理\n",
    "#均值化处理特征\n",
    "ts = time.time()\n",
    "group = matrix.groupby(['date_block_num']).agg({'item_cnt_month': ['mean']}) #对item_cnt_month进行操作\n",
    "group.columns = [ 'date_avg_item_cnt' ]\n",
    "group.reset_index(inplace=True)\n",
    "\n",
    "matrix = pd.merge(matrix, group, on=['date_block_num'], how='left')\n",
    "matrix['date_avg_item_cnt'] = matrix['date_avg_item_cnt'].astype(np.float16)\n",
    "matrix = lag_feature(matrix, [1], 'date_avg_item_cnt') #增加一行date_num最后的平均值，为上个data_num的值\n",
    "matrix.drop(['date_avg_item_cnt'], axis=1, inplace=True)#删除均值类，变成具有标注后的列\n",
    "time.time() - ts"
   ]
  },
  {
   "cell_type": "code",
   "execution_count": 18,
   "metadata": {},
   "outputs": [
    {
     "data": {
      "text/plain": [
       "34.4779634475708"
      ]
     },
     "execution_count": 18,
     "metadata": {},
     "output_type": "execute_result"
    }
   ],
   "source": [
    "#同理，继续按照不同的聚合来产生均值来增加特征。\n",
    "ts = time.time()\n",
    "group = matrix.groupby(['date_block_num', 'item_id']).agg({'item_cnt_month': ['mean']})\n",
    "group.columns = [ 'date_item_avg_item_cnt' ]\n",
    "group.reset_index(inplace=True)\n",
    "\n",
    "matrix = pd.merge(matrix, group, on=['date_block_num','item_id'], how='left')\n",
    "matrix['date_item_avg_item_cnt'] = matrix['date_item_avg_item_cnt'].astype(np.float16)\n",
    "matrix = lag_feature(matrix, [1,2,3,6,12], 'date_item_avg_item_cnt')\n",
    "matrix.drop(['date_item_avg_item_cnt'], axis=1, inplace=True)\n",
    "time.time() - ts"
   ]
  },
  {
   "cell_type": "code",
   "execution_count": 19,
   "metadata": {},
   "outputs": [
    {
     "data": {
      "text/plain": [
       "35.25940179824829"
      ]
     },
     "execution_count": 19,
     "metadata": {},
     "output_type": "execute_result"
    }
   ],
   "source": [
    "ts = time.time()\n",
    "group = matrix.groupby(['date_block_num', 'shop_id']).agg({'item_cnt_month': ['mean']})\n",
    "group.columns = [ 'date_shop_avg_item_cnt' ]\n",
    "group.reset_index(inplace=True)\n",
    "\n",
    "matrix = pd.merge(matrix, group, on=['date_block_num','shop_id'], how='left')\n",
    "matrix['date_shop_avg_item_cnt'] = matrix['date_shop_avg_item_cnt'].astype(np.float16)\n",
    "matrix = lag_feature(matrix, [1,2,3,6,12], 'date_shop_avg_item_cnt')\n",
    "matrix.drop(['date_shop_avg_item_cnt'], axis=1, inplace=True)\n",
    "time.time() - ts"
   ]
  },
  {
   "cell_type": "code",
   "execution_count": 20,
   "metadata": {},
   "outputs": [
    {
     "data": {
      "text/plain": [
       "12.358620643615723"
      ]
     },
     "execution_count": 20,
     "metadata": {},
     "output_type": "execute_result"
    }
   ],
   "source": [
    "ts = time.time()\n",
    "group = matrix.groupby(['date_block_num', 'item_category_id']).agg({'item_cnt_month': ['mean']})\n",
    "group.columns = [ 'date_cat_avg_item_cnt' ]\n",
    "group.reset_index(inplace=True)\n",
    "\n",
    "matrix = pd.merge(matrix, group, on=['date_block_num','item_category_id'], how='left')\n",
    "matrix['date_cat_avg_item_cnt'] = matrix['date_cat_avg_item_cnt'].astype(np.float16)\n",
    "matrix = lag_feature(matrix, [1], 'date_cat_avg_item_cnt')\n",
    "matrix.drop(['date_cat_avg_item_cnt'], axis=1, inplace=True)\n",
    "time.time() - ts"
   ]
  },
  {
   "cell_type": "code",
   "execution_count": 21,
   "metadata": {},
   "outputs": [
    {
     "data": {
      "text/plain": [
       "14.397453308105469"
      ]
     },
     "execution_count": 21,
     "metadata": {},
     "output_type": "execute_result"
    }
   ],
   "source": [
    "ts = time.time()\n",
    "group = matrix.groupby(['date_block_num', 'shop_id', 'item_category_id']).agg({'item_cnt_month': ['mean']})\n",
    "group.columns = ['date_shop_cat_avg_item_cnt']\n",
    "group.reset_index(inplace=True)\n",
    "\n",
    "matrix = pd.merge(matrix, group, on=['date_block_num', 'shop_id', 'item_category_id'], how='left')\n",
    "matrix['date_shop_cat_avg_item_cnt'] = matrix['date_shop_cat_avg_item_cnt'].astype(np.float16)\n",
    "matrix = lag_feature(matrix, [1], 'date_shop_cat_avg_item_cnt')\n",
    "matrix.drop(['date_shop_cat_avg_item_cnt'], axis=1, inplace=True)\n",
    "time.time() - ts"
   ]
  },
  {
   "cell_type": "code",
   "execution_count": 22,
   "metadata": {},
   "outputs": [
    {
     "data": {
      "text/plain": [
       "13.591091632843018"
      ]
     },
     "execution_count": 22,
     "metadata": {},
     "output_type": "execute_result"
    }
   ],
   "source": [
    "ts = time.time()\n",
    "group = matrix.groupby(['date_block_num', 'shop_id', 'type_code']).agg({'item_cnt_month': ['mean']})\n",
    "group.columns = ['date_shop_type_avg_item_cnt']\n",
    "group.reset_index(inplace=True)\n",
    "\n",
    "matrix = pd.merge(matrix, group, on=['date_block_num', 'shop_id', 'type_code'], how='left')\n",
    "matrix['date_shop_type_avg_item_cnt'] = matrix['date_shop_type_avg_item_cnt'].astype(np.float16)\n",
    "matrix = lag_feature(matrix, [1], 'date_shop_type_avg_item_cnt')\n",
    "matrix.drop(['date_shop_type_avg_item_cnt'], axis=1, inplace=True)\n",
    "time.time() - ts"
   ]
  },
  {
   "cell_type": "code",
   "execution_count": 23,
   "metadata": {},
   "outputs": [
    {
     "data": {
      "text/plain": [
       "14.249090194702148"
      ]
     },
     "execution_count": 23,
     "metadata": {},
     "output_type": "execute_result"
    }
   ],
   "source": [
    "ts = time.time()\n",
    "group = matrix.groupby(['date_block_num', 'shop_id', 'subtype_code']).agg({'item_cnt_month': ['mean']})\n",
    "group.columns = ['date_shop_subtype_avg_item_cnt']\n",
    "group.reset_index(inplace=True)\n",
    "\n",
    "matrix = pd.merge(matrix, group, on=['date_block_num', 'shop_id', 'subtype_code'], how='left')\n",
    "matrix['date_shop_subtype_avg_item_cnt'] = matrix['date_shop_subtype_avg_item_cnt'].astype(np.float16)\n",
    "matrix = lag_feature(matrix, [1], 'date_shop_subtype_avg_item_cnt')\n",
    "matrix.drop(['date_shop_subtype_avg_item_cnt'], axis=1, inplace=True)\n",
    "time.time() - ts"
   ]
  },
  {
   "cell_type": "code",
   "execution_count": 24,
   "metadata": {},
   "outputs": [
    {
     "data": {
      "text/plain": [
       "13.407493114471436"
      ]
     },
     "execution_count": 24,
     "metadata": {},
     "output_type": "execute_result"
    }
   ],
   "source": [
    "ts = time.time()\n",
    "group = matrix.groupby(['date_block_num', 'city_code']).agg({'item_cnt_month': ['mean']})\n",
    "group.columns = [ 'date_city_avg_item_cnt' ]\n",
    "group.reset_index(inplace=True)\n",
    "\n",
    "matrix = pd.merge(matrix, group, on=['date_block_num', 'city_code'], how='left')\n",
    "matrix['date_city_avg_item_cnt'] = matrix['date_city_avg_item_cnt'].astype(np.float16)\n",
    "matrix = lag_feature(matrix, [1], 'date_city_avg_item_cnt')\n",
    "matrix.drop(['date_city_avg_item_cnt'], axis=1, inplace=True)\n",
    "time.time() - ts"
   ]
  },
  {
   "cell_type": "code",
   "execution_count": 25,
   "metadata": {},
   "outputs": [
    {
     "data": {
      "text/plain": [
       "19.877360582351685"
      ]
     },
     "execution_count": 25,
     "metadata": {},
     "output_type": "execute_result"
    }
   ],
   "source": [
    "ts = time.time()\n",
    "group = matrix.groupby(['date_block_num', 'item_id', 'city_code']).agg({'item_cnt_month': ['mean']})\n",
    "group.columns = [ 'date_item_city_avg_item_cnt' ]\n",
    "group.reset_index(inplace=True)\n",
    "\n",
    "matrix = pd.merge(matrix, group, on=['date_block_num', 'item_id', 'city_code'], how='left')\n",
    "matrix['date_item_city_avg_item_cnt'] = matrix['date_item_city_avg_item_cnt'].astype(np.float16)\n",
    "matrix = lag_feature(matrix, [1], 'date_item_city_avg_item_cnt')\n",
    "matrix.drop(['date_item_city_avg_item_cnt'], axis=1, inplace=True)\n",
    "time.time() - ts"
   ]
  },
  {
   "cell_type": "code",
   "execution_count": 26,
   "metadata": {},
   "outputs": [
    {
     "data": {
      "text/plain": [
       "14.13223147392273"
      ]
     },
     "execution_count": 26,
     "metadata": {},
     "output_type": "execute_result"
    }
   ],
   "source": [
    "ts = time.time()\n",
    "group = matrix.groupby(['date_block_num', 'type_code']).agg({'item_cnt_month': ['mean']})\n",
    "group.columns = [ 'date_type_avg_item_cnt' ]\n",
    "group.reset_index(inplace=True)\n",
    "\n",
    "matrix = pd.merge(matrix, group, on=['date_block_num', 'type_code'], how='left')\n",
    "matrix['date_type_avg_item_cnt'] = matrix['date_type_avg_item_cnt'].astype(np.float16)\n",
    "matrix = lag_feature(matrix, [1], 'date_type_avg_item_cnt')\n",
    "matrix.drop(['date_type_avg_item_cnt'], axis=1, inplace=True)\n",
    "time.time() - ts"
   ]
  },
  {
   "cell_type": "code",
   "execution_count": 27,
   "metadata": {},
   "outputs": [
    {
     "data": {
      "text/plain": [
       "14.311386346817017"
      ]
     },
     "execution_count": 27,
     "metadata": {},
     "output_type": "execute_result"
    }
   ],
   "source": [
    "ts = time.time()\n",
    "group = matrix.groupby(['date_block_num', 'subtype_code']).agg({'item_cnt_month': ['mean']})\n",
    "group.columns = [ 'date_subtype_avg_item_cnt' ]\n",
    "group.reset_index(inplace=True)\n",
    "\n",
    "matrix = pd.merge(matrix, group, on=['date_block_num', 'subtype_code'], how='left')\n",
    "matrix['date_subtype_avg_item_cnt'] = matrix['date_subtype_avg_item_cnt'].astype(np.float16)\n",
    "matrix = lag_feature(matrix, [1], 'date_subtype_avg_item_cnt')\n",
    "matrix.drop(['date_subtype_avg_item_cnt'], axis=1, inplace=True)\n",
    "time.time() - ts"
   ]
  },
  {
   "cell_type": "code",
   "execution_count": 28,
   "metadata": {},
   "outputs": [
    {
     "data": {
      "text/plain": [
       "175.95996284484863"
      ]
     },
     "execution_count": 28,
     "metadata": {},
     "output_type": "execute_result"
    }
   ],
   "source": [
    "#趋势化处理特征\n",
    "#同样的为增加特征:不同聚合类型的item_price\n",
    "#过去六个月的价格趋势\n",
    "ts = time.time()\n",
    "group = train.groupby(['item_id']).agg({'item_price': ['mean']})\n",
    "group.columns = ['item_avg_item_price']\n",
    "group.reset_index(inplace=True)\n",
    "\n",
    "matrix = pd.merge(matrix, group, on=['item_id'], how='left')\n",
    "matrix['item_avg_item_price'] = matrix['item_avg_item_price'].astype(np.float16)\n",
    "\n",
    "group = train.groupby(['date_block_num','item_id']).agg({'item_price': ['mean']})\n",
    "group.columns = ['date_item_avg_item_price']\n",
    "group.reset_index(inplace=True)\n",
    "\n",
    "matrix = pd.merge(matrix, group, on=['date_block_num','item_id'], how='left')\n",
    "matrix['date_item_avg_item_price'] = matrix['date_item_avg_item_price'].astype(np.float16)\n",
    "\n",
    "lags = [1,2,3,4,5,6]\n",
    "matrix = lag_feature(matrix, lags, 'date_item_avg_item_price')\n",
    "\n",
    "for i in lags:\n",
    "    matrix['delta_price_lag_'+str(i)] = \\\n",
    "        (matrix['date_item_avg_item_price_lag_'+str(i)] - matrix['item_avg_item_price']) / matrix['item_avg_item_price']\n",
    "\n",
    "def select_trend(row):\n",
    "    for i in lags:\n",
    "        if row['delta_price_lag_'+str(i)]:\n",
    "            return row['delta_price_lag_'+str(i)]\n",
    "    return 0\n",
    "    \n",
    "matrix['delta_price_lag'] = matrix.apply(select_trend, axis=1)  #apply的返回值就是函数的返回值\n",
    "matrix['delta_price_lag'] = matrix['delta_price_lag'].astype(np.float16)\n",
    "matrix['delta_price_lag'].fillna(0, inplace=True)\n",
    "\n",
    "fetures_to_drop = ['item_avg_item_price', 'date_item_avg_item_price']\n",
    "for i in lags:\n",
    "    fetures_to_drop += ['date_item_avg_item_price_lag_'+str(i)]\n",
    "    fetures_to_drop += ['delta_price_lag_'+str(i)]\n",
    "\n",
    "matrix.drop(fetures_to_drop, axis=1, inplace=True)\n",
    "\n",
    "time.time() - ts"
   ]
  },
  {
   "cell_type": "code",
   "execution_count": 29,
   "metadata": {},
   "outputs": [
    {
     "data": {
      "text/plain": [
       "18.391879558563232"
      ]
     },
     "execution_count": 29,
     "metadata": {},
     "output_type": "execute_result"
    }
   ],
   "source": [
    "#上个月商店利润趋势\n",
    "ts = time.time()\n",
    "group = train.groupby(['date_block_num','shop_id']).agg({'revenue': ['sum']})\n",
    "group.columns = ['date_shop_revenue']\n",
    "group.reset_index(inplace=True)\n",
    "\n",
    "matrix = pd.merge(matrix, group, on=['date_block_num','shop_id'], how='left')\n",
    "matrix['date_shop_revenue'] = matrix['date_shop_revenue'].astype(np.float32)\n",
    "\n",
    "group = group.groupby(['shop_id']).agg({'date_shop_revenue': ['mean']})\n",
    "group.columns = ['shop_avg_revenue']\n",
    "group.reset_index(inplace=True)\n",
    "\n",
    "matrix = pd.merge(matrix, group, on=['shop_id'], how='left')\n",
    "matrix['shop_avg_revenue'] = matrix['shop_avg_revenue'].astype(np.float32)\n",
    "\n",
    "matrix['delta_revenue'] = (matrix['date_shop_revenue'] - matrix['shop_avg_revenue']) / matrix['shop_avg_revenue']\n",
    "matrix['delta_revenue'] = matrix['delta_revenue'].astype(np.float16)\n",
    "\n",
    "matrix = lag_feature(matrix, [1], 'delta_revenue')\n",
    "\n",
    "matrix.drop(['date_shop_revenue','shop_avg_revenue','delta_revenue'], axis=1, inplace=True)\n",
    "time.time() - ts"
   ]
  },
  {
   "cell_type": "code",
   "execution_count": 30,
   "metadata": {},
   "outputs": [],
   "source": [
    "#处理特殊的特征\n",
    "#月份\n",
    "matrix['month'] = matrix['date_block_num'] % 12"
   ]
  },
  {
   "cell_type": "code",
   "execution_count": 31,
   "metadata": {},
   "outputs": [],
   "source": [
    "#一个月的天数，没有闰年\n",
    "days = pd.Series([31,28,31,30,31,30,31,31,30,31,30,31])\n",
    "matrix['days'] = matrix['month'].map(days).astype(np.int8)"
   ]
  },
  {
   "cell_type": "code",
   "execution_count": 32,
   "metadata": {},
   "outputs": [
    {
     "data": {
      "text/plain": [
       "675.9820508956909"
      ]
     },
     "execution_count": 32,
     "metadata": {},
     "output_type": "execute_result"
    }
   ],
   "source": [
    "#商品新旧程度\n",
    "#每个商店/商品组合和仅商品的最后一次销售后的月份\n",
    "#创建hashtable，key={shop_id,item_id} ，value={date_block_num}，遍历行，如果key存在，则计算cached value和row.row.date_block_num的差值\n",
    "#如果key不存在，添加到表中，并设置value=row.date_block_num\n",
    "ts = time.time()\n",
    "cache = {}\n",
    "matrix['item_shop_last_sale'] = -1\n",
    "matrix['item_shop_last_sale'] = matrix['item_shop_last_sale'].astype(np.int8)\n",
    "for idx, row in matrix.iterrows():    \n",
    "    key = str(row.item_id)+' '+str(row.shop_id)\n",
    "    if key not in cache:\n",
    "        if row.item_cnt_month!=0:\n",
    "            cache[key] = row.date_block_num\n",
    "    else:\n",
    "        last_date_block_num = cache[key]\n",
    "        matrix.at[idx, 'item_shop_last_sale'] = row.date_block_num - last_date_block_num\n",
    "        cache[key] = row.date_block_num         \n",
    "time.time() - ts"
   ]
  },
  {
   "cell_type": "code",
   "execution_count": 33,
   "metadata": {},
   "outputs": [
    {
     "data": {
      "text/plain": [
       "440.8247628211975"
      ]
     },
     "execution_count": 33,
     "metadata": {},
     "output_type": "execute_result"
    }
   ],
   "source": [
    "ts = time.time()\n",
    "cache = {}\n",
    "matrix['item_last_sale'] = -1\n",
    "matrix['item_last_sale'] = matrix['item_last_sale'].astype(np.int8)\n",
    "for idx, row in matrix.iterrows():    \n",
    "    key = row.item_id\n",
    "    if key not in cache:\n",
    "        if row.item_cnt_month!=0:\n",
    "            cache[key] = row.date_block_num\n",
    "    else:\n",
    "        last_date_block_num = cache[key]\n",
    "        if row.date_block_num>last_date_block_num:\n",
    "            matrix.at[idx, 'item_last_sale'] = row.date_block_num - last_date_block_num\n",
    "            cache[key] = row.date_block_num         \n",
    "time.time() - ts"
   ]
  },
  {
   "cell_type": "code",
   "execution_count": 34,
   "metadata": {},
   "outputs": [
    {
     "data": {
      "text/plain": [
       "2.0985491275787354"
      ]
     },
     "execution_count": 34,
     "metadata": {},
     "output_type": "execute_result"
    }
   ],
   "source": [
    "#每个商店/商品组合和仅商品的第一次销售后的月份，计算周期\n",
    "ts = time.time()\n",
    "matrix['item_shop_first_sale'] = matrix['date_block_num'] - matrix.groupby(['item_id','shop_id'])['date_block_num'].transform('min')\n",
    "matrix['item_first_sale'] = matrix['date_block_num'] - matrix.groupby('item_id')['date_block_num'].transform('min')\n",
    "time.time() - ts"
   ]
  },
  {
   "cell_type": "code",
   "execution_count": 35,
   "metadata": {},
   "outputs": [
    {
     "data": {
      "text/plain": [
       "1.2304081916809082"
      ]
     },
     "execution_count": 35,
     "metadata": {},
     "output_type": "execute_result"
    }
   ],
   "source": [
    "#由于使用 12 作为滞后值下降前 12 个月。同时删除了所有本月计算值的列（也就是说不能为测试集计算）\n",
    "ts = time.time()\n",
    "matrix = matrix[matrix.date_block_num > 11]\n",
    "time.time() - ts"
   ]
  },
  {
   "cell_type": "code",
   "execution_count": 36,
   "metadata": {},
   "outputs": [
    {
     "data": {
      "text/plain": [
       "1.4332232475280762"
      ]
     },
     "execution_count": 36,
     "metadata": {},
     "output_type": "execute_result"
    }
   ],
   "source": [
    "#滞后会产生许多空值，需要填充\n",
    "ts = time.time()\n",
    "def fill_na(df):\n",
    "    for col in df.columns:\n",
    "        if ('_lag_' in col) & (df[col].isnull().any()):\n",
    "            if ('item_cnt' in col):\n",
    "                df[col].fillna(0, inplace=True)         \n",
    "    return df\n",
    "\n",
    "matrix = fill_na(matrix)\n",
    "time.time() - ts"
   ]
  },
  {
   "cell_type": "code",
   "execution_count": 37,
   "metadata": {},
   "outputs": [
    {
     "data": {
      "text/plain": [
       "Index(['date_block_num', 'shop_id', 'item_id', 'item_cnt_month', 'city_code',\n",
       "       'item_category_id', 'type_code', 'subtype_code', 'item_cnt_month_lag_1',\n",
       "       'item_cnt_month_lag_2', 'item_cnt_month_lag_3', 'item_cnt_month_lag_6',\n",
       "       'item_cnt_month_lag_12', 'date_avg_item_cnt_lag_1',\n",
       "       'date_item_avg_item_cnt_lag_1', 'date_item_avg_item_cnt_lag_2',\n",
       "       'date_item_avg_item_cnt_lag_3', 'date_item_avg_item_cnt_lag_6',\n",
       "       'date_item_avg_item_cnt_lag_12', 'date_shop_avg_item_cnt_lag_1',\n",
       "       'date_shop_avg_item_cnt_lag_2', 'date_shop_avg_item_cnt_lag_3',\n",
       "       'date_shop_avg_item_cnt_lag_6', 'date_shop_avg_item_cnt_lag_12',\n",
       "       'date_cat_avg_item_cnt_lag_1', 'date_shop_cat_avg_item_cnt_lag_1',\n",
       "       'date_shop_type_avg_item_cnt_lag_1',\n",
       "       'date_shop_subtype_avg_item_cnt_lag_1', 'date_city_avg_item_cnt_lag_1',\n",
       "       'date_item_city_avg_item_cnt_lag_1', 'date_type_avg_item_cnt_lag_1',\n",
       "       'date_subtype_avg_item_cnt_lag_1', 'delta_price_lag',\n",
       "       'delta_revenue_lag_1', 'month', 'days', 'item_shop_last_sale',\n",
       "       'item_last_sale', 'item_shop_first_sale', 'item_first_sale'],\n",
       "      dtype='object')"
      ]
     },
     "execution_count": 37,
     "metadata": {},
     "output_type": "execute_result"
    }
   ],
   "source": [
    "matrix.columns"
   ]
  },
  {
   "cell_type": "code",
   "execution_count": 38,
   "metadata": {},
   "outputs": [
    {
     "name": "stdout",
     "output_type": "stream",
     "text": [
      "<class 'pandas.core.frame.DataFrame'>\n",
      "Int64Index: 6639294 entries, 4488710 to 11128003\n",
      "Data columns (total 40 columns):\n",
      " #   Column                                Dtype  \n",
      "---  ------                                -----  \n",
      " 0   date_block_num                        int8   \n",
      " 1   shop_id                               int8   \n",
      " 2   item_id                               int16  \n",
      " 3   item_cnt_month                        float16\n",
      " 4   city_code                             int8   \n",
      " 5   item_category_id                      int8   \n",
      " 6   type_code                             int8   \n",
      " 7   subtype_code                          int8   \n",
      " 8   item_cnt_month_lag_1                  float16\n",
      " 9   item_cnt_month_lag_2                  float16\n",
      " 10  item_cnt_month_lag_3                  float16\n",
      " 11  item_cnt_month_lag_6                  float16\n",
      " 12  item_cnt_month_lag_12                 float16\n",
      " 13  date_avg_item_cnt_lag_1               float16\n",
      " 14  date_item_avg_item_cnt_lag_1          float16\n",
      " 15  date_item_avg_item_cnt_lag_2          float16\n",
      " 16  date_item_avg_item_cnt_lag_3          float16\n",
      " 17  date_item_avg_item_cnt_lag_6          float16\n",
      " 18  date_item_avg_item_cnt_lag_12         float16\n",
      " 19  date_shop_avg_item_cnt_lag_1          float16\n",
      " 20  date_shop_avg_item_cnt_lag_2          float16\n",
      " 21  date_shop_avg_item_cnt_lag_3          float16\n",
      " 22  date_shop_avg_item_cnt_lag_6          float16\n",
      " 23  date_shop_avg_item_cnt_lag_12         float16\n",
      " 24  date_cat_avg_item_cnt_lag_1           float16\n",
      " 25  date_shop_cat_avg_item_cnt_lag_1      float16\n",
      " 26  date_shop_type_avg_item_cnt_lag_1     float16\n",
      " 27  date_shop_subtype_avg_item_cnt_lag_1  float16\n",
      " 28  date_city_avg_item_cnt_lag_1          float16\n",
      " 29  date_item_city_avg_item_cnt_lag_1     float16\n",
      " 30  date_type_avg_item_cnt_lag_1          float16\n",
      " 31  date_subtype_avg_item_cnt_lag_1       float16\n",
      " 32  delta_price_lag                       float16\n",
      " 33  delta_revenue_lag_1                   float16\n",
      " 34  month                                 int8   \n",
      " 35  days                                  int8   \n",
      " 36  item_shop_last_sale                   int8   \n",
      " 37  item_last_sale                        int8   \n",
      " 38  item_shop_first_sale                  int8   \n",
      " 39  item_first_sale                       int8   \n",
      "dtypes: float16(27), int16(1), int8(12)\n",
      "memory usage: 481.2 MB\n"
     ]
    }
   ],
   "source": [
    "matrix.info()"
   ]
  },
  {
   "cell_type": "code",
   "execution_count": 39,
   "metadata": {},
   "outputs": [],
   "source": [
    "#生成数据\n",
    "matrix.to_pickle('data.pkl')\n",
    "del matrix\n",
    "del cache\n",
    "del group\n",
    "del items\n",
    "del shops\n",
    "del cats\n",
    "del train\n",
    "# leave test for submission\n",
    "gc.collect();#垃圾回收，试验代码时c盘快炸了，就非常需要这个"
   ]
  },
  {
   "cell_type": "code",
   "execution_count": 46,
   "metadata": {},
   "outputs": [],
   "source": [
    "import pandas as pd\n",
    "data = pd.read_pickle('data.pkl')"
   ]
  },
  {
   "cell_type": "code",
   "execution_count": 47,
   "metadata": {},
   "outputs": [],
   "source": [
    "#搭建模型\n",
    "#特征选择\n",
    "data = data[[\n",
    "    'date_block_num',\n",
    "    'shop_id',\n",
    "    'item_id',\n",
    "    'item_cnt_month',\n",
    "    'city_code',\n",
    "    'item_category_id',\n",
    "    'type_code',\n",
    "    'subtype_code',\n",
    "    'item_cnt_month_lag_1',\n",
    "    'item_cnt_month_lag_2',\n",
    "    'item_cnt_month_lag_3',\n",
    "    'item_cnt_month_lag_6',\n",
    "    'item_cnt_month_lag_12',\n",
    "    'date_avg_item_cnt_lag_1',\n",
    "    'date_item_avg_item_cnt_lag_1',\n",
    "    'date_item_avg_item_cnt_lag_2',\n",
    "    'date_item_avg_item_cnt_lag_3',\n",
    "    'date_item_avg_item_cnt_lag_6',\n",
    "    'date_item_avg_item_cnt_lag_12',\n",
    "    'date_shop_avg_item_cnt_lag_1',\n",
    "    'date_shop_avg_item_cnt_lag_2',\n",
    "    'date_shop_avg_item_cnt_lag_3',\n",
    "    'date_shop_avg_item_cnt_lag_6',\n",
    "    'date_shop_avg_item_cnt_lag_12',\n",
    "    'date_cat_avg_item_cnt_lag_1',\n",
    "    'date_shop_cat_avg_item_cnt_lag_1',\n",
    "    #'date_shop_type_avg_item_cnt_lag_1',\n",
    "    #'date_shop_subtype_avg_item_cnt_lag_1',\n",
    "    'date_city_avg_item_cnt_lag_1',\n",
    "    'date_item_city_avg_item_cnt_lag_1',\n",
    "    #'date_type_avg_item_cnt_lag_1',\n",
    "    #'date_subtype_avg_item_cnt_lag_1',\n",
    "    'delta_price_lag',\n",
    "    'month',\n",
    "    'days',\n",
    "    'item_shop_last_sale',\n",
    "    'item_last_sale',\n",
    "    'item_shop_first_sale',\n",
    "    'item_first_sale',\n",
    "]]"
   ]
  },
  {
   "cell_type": "code",
   "execution_count": 48,
   "metadata": {},
   "outputs": [],
   "source": [
    "#验证策略是测试集第34个月，验证集第33个月，训练集13月到33月\n",
    "X_train = data[data.date_block_num < 33].drop(['item_cnt_month'], axis=1)#数据切分\n",
    "Y_train = data[data.date_block_num < 33]['item_cnt_month']    #item_cnt_month标签\n",
    "X_valid = data[data.date_block_num == 33].drop(['item_cnt_month'], axis=1)\n",
    "Y_valid = data[data.date_block_num == 33]['item_cnt_month']\n",
    "X_test = data[data.date_block_num == 34].drop(['item_cnt_month'], axis=1)"
   ]
  },
  {
   "cell_type": "code",
   "execution_count": 50,
   "metadata": {},
   "outputs": [],
   "source": [
    "del data\n",
    "gc.collect();"
   ]
  },
  {
   "cell_type": "code",
   "execution_count": 54,
   "metadata": {},
   "outputs": [
    {
     "name": "stdout",
     "output_type": "stream",
     "text": [
      "[0]\tvalidation_0-rmse:1.06083\tvalidation_1-rmse:1.04809\n",
      "[1]\tvalidation_0-rmse:0.96667\tvalidation_1-rmse:0.97946\n",
      "[2]\tvalidation_0-rmse:0.91299\tvalidation_1-rmse:0.94495\n",
      "[3]\tvalidation_0-rmse:0.88253\tvalidation_1-rmse:0.93073\n",
      "[4]\tvalidation_0-rmse:0.86378\tvalidation_1-rmse:0.92072\n",
      "[5]\tvalidation_0-rmse:0.85225\tvalidation_1-rmse:0.91671\n",
      "[6]\tvalidation_0-rmse:0.84473\tvalidation_1-rmse:0.91447\n",
      "[7]\tvalidation_0-rmse:0.83879\tvalidation_1-rmse:0.91215\n",
      "[8]\tvalidation_0-rmse:0.83445\tvalidation_1-rmse:0.91241\n",
      "[9]\tvalidation_0-rmse:0.83132\tvalidation_1-rmse:0.91174\n",
      "[10]\tvalidation_0-rmse:0.82798\tvalidation_1-rmse:0.91190\n",
      "[11]\tvalidation_0-rmse:0.82605\tvalidation_1-rmse:0.91134\n",
      "[12]\tvalidation_0-rmse:0.82412\tvalidation_1-rmse:0.91156\n",
      "[13]\tvalidation_0-rmse:0.82261\tvalidation_1-rmse:0.91065\n",
      "[14]\tvalidation_0-rmse:0.82136\tvalidation_1-rmse:0.91168\n",
      "[15]\tvalidation_0-rmse:0.81953\tvalidation_1-rmse:0.91232\n",
      "[16]\tvalidation_0-rmse:0.81856\tvalidation_1-rmse:0.91262\n",
      "[17]\tvalidation_0-rmse:0.81744\tvalidation_1-rmse:0.91231\n",
      "[18]\tvalidation_0-rmse:0.81649\tvalidation_1-rmse:0.91226\n",
      "[19]\tvalidation_0-rmse:0.81533\tvalidation_1-rmse:0.91248\n",
      "[20]\tvalidation_0-rmse:0.81379\tvalidation_1-rmse:0.91246\n",
      "[21]\tvalidation_0-rmse:0.81280\tvalidation_1-rmse:0.91310\n",
      "[22]\tvalidation_0-rmse:0.81122\tvalidation_1-rmse:0.91120\n",
      "[23]\tvalidation_0-rmse:0.80993\tvalidation_1-rmse:0.91034\n",
      "[24]\tvalidation_0-rmse:0.80869\tvalidation_1-rmse:0.91102\n",
      "[25]\tvalidation_0-rmse:0.80722\tvalidation_1-rmse:0.91097\n",
      "[26]\tvalidation_0-rmse:0.80669\tvalidation_1-rmse:0.91132\n",
      "[27]\tvalidation_0-rmse:0.80501\tvalidation_1-rmse:0.91059\n",
      "[28]\tvalidation_0-rmse:0.80448\tvalidation_1-rmse:0.91043\n",
      "[29]\tvalidation_0-rmse:0.80376\tvalidation_1-rmse:0.91096\n",
      "[30]\tvalidation_0-rmse:0.80304\tvalidation_1-rmse:0.91136\n",
      "[31]\tvalidation_0-rmse:0.80143\tvalidation_1-rmse:0.91025\n",
      "[32]\tvalidation_0-rmse:0.80063\tvalidation_1-rmse:0.91062\n",
      "[33]\tvalidation_0-rmse:0.79998\tvalidation_1-rmse:0.91086\n",
      "[34]\tvalidation_0-rmse:0.79956\tvalidation_1-rmse:0.91117\n",
      "[35]\tvalidation_0-rmse:0.79912\tvalidation_1-rmse:0.91131\n",
      "[36]\tvalidation_0-rmse:0.79802\tvalidation_1-rmse:0.91213\n",
      "[37]\tvalidation_0-rmse:0.79770\tvalidation_1-rmse:0.91403\n",
      "[38]\tvalidation_0-rmse:0.79701\tvalidation_1-rmse:0.91692\n",
      "[39]\tvalidation_0-rmse:0.79661\tvalidation_1-rmse:0.91956\n",
      "[40]\tvalidation_0-rmse:0.79569\tvalidation_1-rmse:0.91720\n",
      "[41]\tvalidation_0-rmse:0.79400\tvalidation_1-rmse:0.91588\n"
     ]
    },
    {
     "data": {
      "text/plain": [
       "53.283385038375854"
      ]
     },
     "execution_count": 54,
     "metadata": {},
     "output_type": "execute_result"
    }
   ],
   "source": [
    "ts = time.time()\n",
    "\n",
    "model = XGBRegressor(\n",
    "    max_depth=8,  #最大树深\n",
    "    n_estimators=1000,   # # 使用多少棵树来拟合，也可以理解为多少次迭代\n",
    "    min_child_weight=300,    #叶子节点最小样本数\n",
    "    colsample_bytree=0.8,     #每次拟合一棵树之前，决定使用多少个特征\n",
    "    subsample=0.8,     #指定采样出 subsample * n_samples 个样本用于训练弱学习器\n",
    "    eta=0.3,      #学习速度 \n",
    "    seed=42)    #指定随机数种子\n",
    "\n",
    "model.fit(\n",
    "    X_train,  #输入\n",
    "    Y_train,  #输出\n",
    "    eval_metric=\"rmse\",    #评估函数，evaluation要求使用rmse  ||回归任务(默认rmse)rmse--均方根误差\n",
    "    eval_set=[(X_train, Y_train), (X_valid, Y_valid)],    #用于评估的数据集\n",
    "    verbose=True,    #日志显示\n",
    "    early_stopping_rounds = 10)   #代表在10个迭代内结果没什么改进就停止\n",
    "\n",
    "time.time() - ts"
   ]
  },
  {
   "cell_type": "code",
   "execution_count": 52,
   "metadata": {},
   "outputs": [],
   "source": [
    "#预测\n",
    "Y_pred = model.predict(X_valid).clip(0, 20)\n",
    "Y_test = model.predict(X_test).clip(0, 20)\n",
    "\n",
    "submission = pd.DataFrame({\n",
    "    \"ID\": test.index, \n",
    "    \"item_cnt_month\": Y_test\n",
    "})\n",
    "submission.to_csv('xgb_submission.csv', index=False)\n",
    "\n",
    "# 保存预测文件并序列化\n",
    "pickle.dump(Y_pred, open('xgb_train.pickle', 'wb'))\n",
    "pickle.dump(Y_test, open('xgb_test.pickle', 'wb'))"
   ]
  },
  {
   "cell_type": "code",
   "execution_count": 53,
   "metadata": {},
   "outputs": [
    {
     "data": {
      "text/plain": [
       "<AxesSubplot:title={'center':'Feature importance'}, xlabel='F score', ylabel='Features'>"
      ]
     },
     "execution_count": 53,
     "metadata": {},
     "output_type": "execute_result"
    },
    {
     "data": {
      "image/png": "[encoded data removed]",
      "text/plain": [
       "<Figure size 720x1008 with 1 Axes>"
      ]
     },
     "metadata": {
      "needs_background": "light"
     },
     "output_type": "display_data"
    }
   ],
   "source": [
    "#特征重要性画图\n",
    "plot_features(model, (10,14))"
   ]
  }
 ],
 "metadata": {
  "kernelspec": {
   "display_name": "Python 3.9.0 64-bit",
   "language": "python",
   "name": "python3"
  },
  "language_info": {
   "codemirror_mode": {
    "name": "ipython",
    "version": 3
   },
   "file_extension": ".py",
   "mimetype": "text/x-python",
   "name": "python",
   "nbconvert_exporter": "python",
   "pygments_lexer": "ipython3",
   "version": "3.9.0"
  },
  "orig_nbformat": 4,
  "vscode": {
   "interpreter": {
    "hash": "19eefbc407aa68756bae770c194384c6ab1551afe0862a1394c1038dfe153d80"
   }
  }
 },
 "nbformat": 4,
 "nbformat_minor": 2
}
