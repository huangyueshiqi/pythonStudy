{
 "cells": [
  {
   "cell_type": "markdown",
   "metadata": {},
   "source": [
    "XGboost算法\n",
    "\n",
    "　-　XGBoost是GBDT算法的一种改进，是一种常用的有监督集成学习算法；是一种伸缩性强、便捷的可并行构建模型的GradientBoosting算法。\n",
    "\n",
    "　-　原理是：在GBDT目标函数的基础上加入惩罚项，如下图绿框。通过限制树模型的叶子节点的个数和叶子节点的值来降低模型复杂度，从而防止过拟合，二分之一是为了求导方便。t是树的棵数，obj为损失函数\n",
    "\n",
    "　-　大体步骤：防止过拟合，二阶泰勒展开公式计算，给出了新的树的划分标准，用的是损失函数的增量。\n",
    "\n",
    "　-　目的：找到第t颗树是如何搭建的\n",
    "\n",
    "优点\n",
    "   - 精度更高：XGBoost 对损失函数进行了二阶泰勒展开\n",
    "\n",
    "   - 灵活性更强：XGBoost 不仅支持 CART 还支持线性分类器，使用线性分类器的 XGBoost 相当于带 L1 和 L2 正则化项的逻辑斯蒂回归（分类问题）或者线性回归（回归问题）。此外，XGBoost 工具支持自定义损失函数，只需函数支持一阶和二阶求导；\n",
    "\n",
    "   - 正则化：XGBoost 在目标函数中加入了正则项，用于控制模型的复杂度。正则项里包含了树的叶子节点个数、叶子节点权重的 L2 范式。正则项降低了模型的方差，使学习出来的模型更加简单，有助于防止过拟合.\n",
    "\n",
    "   - Shrinkage（缩减）：相当于学习速率。XGBoost 在进行完一次迭代后，会将叶子节点的权重乘上该系数，主要是为了削弱每棵树的影响，让后面有更大的学习空间。\n",
    "\n",
    "   - 列抽样：XGBoost 借鉴了随机森林的做法，支持列抽样，不仅能降低过拟合，还能减少计算。\n",
    "\n",
    "   - 缺失值处理：对于特征的值有缺失的样本，XGBoost 采用的稀疏感知算法可以自动学习出它的分裂方向；\n",
    "\n",
    "   - XGBoost工具支持并行：XGBoost的并行是在特征粒度上的。各个特征的增益计算可以开多线程进行。\n",
    "\n",
    "   - 可并行的近似算法：XGBoost提出了一种可并行的近似算法，用于高效地生成候选的分割点。\n",
    "\n",
    "\n",
    "缺点\n",
    "  -  虽然利用预排序和近似算法可以降低寻找最佳分裂点的计算量，但在节点分裂过程中仍需要遍历数据集；\n",
    "\n",
    "   - 预排序过程的空间复杂度过高，不仅需要存储特征值，还需要存储特征对应样本的梯度统计值的索引，相当于消耗了两倍的内存。"
   ]
  },
  {
   "cell_type": "markdown",
   "metadata": {},
   "source": [
    "算法过程\n",
    "- 读取数据\n",
    "- 修复数据并删除异常值\n",
    "- shops/cats/items对象和特征预处理\n",
    "-  在训练集中创建矩阵存储每个月的商店-商品对\n",
    "-获取训练集中每个商店-商品对的月销售额并合并到矩阵中\n",
    "- 按 (0,20) 剪裁 item_cnt_month\n",
    "- 将测试集合并到矩阵中，第34个月用零值填充NaN数据\n",
    "- 将shops/cats/items合并到矩阵中\n",
    "- 添加滞后特征\n",
    "- 添加平均编码特征\n",
    "- 添加价格趋势特征\n",
    "- 添加月份\n",
    "- 添加天数\n",
    "- 添加距离最近一次销售时间和新商品销售时间\n",
    "- 删除第一年和无法被测试集计算的列\n",
    "- 选择最佳特征\n",
    "- 设置验证策略是测试集第34个月，验证集第33个月，训练集13月到33月\n",
    "- 为测试集拟合模型，预测，裁剪获取目标值"
   ]
  },
  {
   "cell_type": "markdown",
   "metadata": {},
   "source": [
    "这里我觉得应该是整体代码中最为核心的部分，我理解是这一种时间滑窗的操作，通过时间平移，\n",
    "创建时间滞后变量——也就是上一个时间的数据作为当前时间戳的预测变量来预测目标值，\n",
    "可以理解成一种隐式的用过去时间数据来预测当前数据目标值。后面所有的操作都是基于此的。"
   ]
  },
  {
   "cell_type": "code",
   "execution_count": null,
   "metadata": {},
   "outputs": [],
   "source": [
    "def lag_feature(df, lags, col):\n",
    "    tmp = df[['date_block_num','shop_id','item_id',col]]\n",
    "    for i in lags:\n",
    "        shifted = tmp.copy()\n",
    "        shifted.columns = ['date_block_num','shop_id','item_id', col+'_lag_'+str(i)]\n",
    "        shifted['date_block_num'] += i\n",
    "        df = pd.merge(df, shifted, on=['date_block_num','shop_id','item_id'], how='left')\n",
    "    return df\n",
    "matrix = lag_feature(matrix, [1,2,3,6,12], 'item_cnt_month')\n",
    "\n"
   ]
  },
  {
   "cell_type": "markdown",
   "metadata": {},
   "source": [
    "注意点\n",
    "\n",
    "- 给出的是每日的销售量统计，但是预测的是一个月的销售量\n",
    "- 注意相比上个月，下个月可能会出现一些新的商品，也就是说，新的时间中会有历史数据中不曾出现过的样本数据，对预测造成一定的影响；\n",
    "- 预测目标值被限定了在[0,20]，在最终预测之后，要做一次裁剪\n",
    "- 本题测试集什么特征变量都没有\n",
    "- Revenue trend features\n",
    "1.validation set和test set都会出现train set所没有的新商品，借助商店revenue趋势特征可以帮助算法预测新商品在现有店铺的销量。\n",
    "- new item features\n",
    "1. 'item_shop_last_sale'和'item_last_sale'用以纪录距离最近一次销售之间隔了几个月，通过它可以和之前月份的数据建立关联。\n",
    "2.'item_shop_first_sale'和'item_first_sale'则是用于表示新商品的特征。\n",
    "- 代码里对数据的类型进行了降低，一般来说，我们不去管数据的精度保持默认情况就行，但较小的数据精度，在大规模数据处理中具有很重要的作用，可以加快数据处理以及节省内存"
   ]
  },
  {
   "cell_type": "markdown",
   "metadata": {},
   "source": []
  }
 ],
 "metadata": {
  "kernelspec": {
   "display_name": "Python 2.7.18 32-bit",
   "language": "python",
   "name": "python3"
  },
  "language_info": {
   "codemirror_mode": {
    "name": "ipython",
    "version": 2
   },
   "file_extension": ".py",
   "mimetype": "text/x-python",
   "name": "python",
   "nbconvert_exporter": "python",
   "pygments_lexer": "ipython2",
   "version": "2.7.18"
  },
  "orig_nbformat": 4,
  "vscode": {
   "interpreter": {
    "hash": "dbea1933539f5ff8ca081fd8f0fd59bac0c4940c59a4642f9281976d3a41834e"
   }
  }
 },
 "nbformat": 4,
 "nbformat_minor": 2
}
