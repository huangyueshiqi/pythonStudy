{
 "cells": [
  {
   "cell_type": "code",
   "execution_count": 18,
   "metadata": {},
   "outputs": [
    {
     "name": "stdout",
     "output_type": "stream",
     "text": [
      "data type: (569, 30); no.positive: (357,); no.negative: (212,)\n",
      "[1.799e+01 1.038e+01 1.228e+02 1.001e+03 1.184e-01 2.776e-01 3.001e-01\n",
      " 1.471e-01 2.419e-01 7.871e-02 1.095e+00 9.053e-01 8.589e+00 1.534e+02\n",
      " 6.399e-03 4.904e-02 5.373e-02 1.587e-02 3.003e-02 6.193e-03 2.538e+01\n",
      " 1.733e+01 1.846e+02 2.019e+03 1.622e-01 6.656e-01 7.119e-01 2.654e-01\n",
      " 4.601e-01 1.189e-01]\n",
      "['mean radius' 'mean texture' 'mean perimeter' 'mean area'\n",
      " 'mean smoothness' 'mean compactness' 'mean concavity'\n",
      " 'mean concave points' 'mean symmetry' 'mean fractal dimension'\n",
      " 'radius error' 'texture error' 'perimeter error' 'area error'\n",
      " 'smoothness error' 'compactness error' 'concavity error'\n",
      " 'concave points error' 'symmetry error' 'fractal dimension error'\n",
      " 'worst radius' 'worst texture' 'worst perimeter' 'worst area'\n",
      " 'worst smoothness' 'worst compactness' 'worst concavity'\n",
      " 'worst concave points' 'worst symmetry' 'worst fractal dimension']\n"
     ]
    }
   ],
   "source": [
    "# 载入数据\n",
    "from sklearn.datasets import load_breast_cancer\n",
    "\n",
    "cancer = load_breast_cancer()  #乳腺癌数据集\n",
    "X = cancer.data      \n",
    "y = cancer.target    #1或0  阳性或阴性\n",
    "print('data type: {0}; no.positive: {1}; no.negative: {2}'.format(X.shape, y[y==1].shape, y[y==0].shape))   #569个样本，30个特征  阳性：357  阴性：212\n",
    "print(cancer.data[0])\n",
    "print(cancer.feature_names) # 查看特征名称\n"
   ]
  },
  {
   "cell_type": "code",
   "execution_count": 19,
   "metadata": {},
   "outputs": [
    {
     "name": "stdout",
     "output_type": "stream",
     "text": [
      "(455, 30) (455,)\n",
      "(114, 30) (114,)\n",
      "train score:  0.940659; test score:  0.991228\n"
     ]
    },
    {
     "name": "stderr",
     "output_type": "stream",
     "text": [
      "C:\\Users\\DL\\AppData\\Roaming\\Python\\Python38\\site-packages\\sklearn\\linear_model\\_logistic.py:444: ConvergenceWarning: lbfgs failed to converge (status=1):\n",
      "STOP: TOTAL NO. of ITERATIONS REACHED LIMIT.\n",
      "\n",
      "Increase the number of iterations (max_iter) or scale the data as shown in:\n",
      "    https://scikit-learn.org/stable/modules/preprocessing.html\n",
      "Please also refer to the documentation for alternative solver options:\n",
      "    https://scikit-learn.org/stable/modules/linear_model.html#logistic-regression\n",
      "  n_iter_i = _check_optimize_result(\n"
     ]
    }
   ],
   "source": [
    "from sklearn.model_selection import train_test_split\n",
    "from sklearn.linear_model import LogisticRegression\n",
    "\n",
    "# 把数据集分为训练集和测试集\n",
    "X_train, X_test, y_train, y_test = train_test_split(X, y, test_size=0.2)\n",
    "print(X_train.shape, y_train.shape)\n",
    "print(X_test.shape, y_test.shape)\n",
    "\n",
    "\n",
    "# 使用LogisticRegression模型来训练，并计算训练集的评分数据和测试集的评分数据。\n",
    "# 模型训练\n",
    "model = LogisticRegression()\n",
    "model.fit(X_train, y_train)\n",
    "\n",
    "train_score = model.score(X_train, y_train)\n",
    "test_score = model.score(X_test, y_test)\n",
    "print('train score: {train_score: .6f}; test score: {test_score: .6f}'.format(train_score=train_score, test_score=test_score))\n",
    "\n"
   ]
  },
  {
   "cell_type": "code",
   "execution_count": 20,
   "metadata": {},
   "outputs": [
    {
     "name": "stdout",
     "output_type": "stream",
     "text": [
      "matches: 114/114\n"
     ]
    }
   ],
   "source": [
    "# 样本预测\n",
    "import numpy as np #导入numpy，因为下面要用到它（np。equal()函数）\n",
    "y_pred = model.predict(X_test)\n",
    "print('matches: {0}/{1}'.format(np.equal(y_pred, y_test).shape[0], y_test.shape[0]))\n"
   ]
  },
  {
   "cell_type": "code",
   "execution_count": 21,
   "metadata": {},
   "outputs": [
    {
     "name": "stdout",
     "output_type": "stream",
     "text": [
      "sample of predict probability: [1.00000000e+00 1.82480572e-16]\n",
      "[[0.64767315 0.35232685]\n",
      " [0.59767017 0.40232983]\n",
      " [0.13969712 0.86030288]\n",
      " [0.27590425 0.72409575]\n",
      " [0.1245546  0.8754454 ]\n",
      " [0.17126463 0.82873537]\n",
      " [0.52068868 0.47931132]\n",
      " [0.15740193 0.84259807]\n",
      " [0.44747359 0.55252641]\n",
      " [0.11668397 0.88331603]\n",
      " [0.12380744 0.87619256]\n",
      " [0.88265791 0.11734209]\n",
      " [0.11263639 0.88736361]\n",
      " [0.49347121 0.50652879]\n",
      " [0.83003397 0.16996603]\n",
      " [0.12267101 0.87732899]\n",
      " [0.31616788 0.68383212]\n",
      " [0.12371724 0.87628276]]\n"
     ]
    }
   ],
   "source": [
    "# 预测概率：找出预测概率低于90%的样本\n",
    "y_pred_proba = model.predict_proba(X_test) # 计算每个测试样本的预测概率\n",
    "# 打印第一个样本的数据，以便我们了解数据形式\n",
    "print('sample of predict probability: {0}'.format(y_pred_proba[0]))\n",
    "\n",
    "\"\"\"输出：\n",
    "sample of predict probability: [0.00588337 0.99411663]\n",
    "\"\"\"\n",
    "\n",
    "# 找出第一列，即预测为阴性的概率大于0.1的样本，保存在result里\n",
    "y_pred_proba_0 = y_pred_proba[:, 0] > 0.1\n",
    "result = y_pred_proba[y_pred_proba_0]\n",
    "\n",
    "# 在result结果集里，找到第二列，即预测为阳性的概率大于0.1的样本\n",
    "y_pred_proba_1 = result[:, 1] > 0.1\n",
    "print(result[y_pred_proba_1])\n",
    "\n"
   ]
  },
  {
   "cell_type": "code",
   "execution_count": 22,
   "metadata": {},
   "outputs": [
    {
     "ename": "AttributeError",
     "evalue": "module 'time' has no attribute 'clock'",
     "output_type": "error",
     "traceback": [
      "\u001b[1;31m---------------------------------------------------------------------------\u001b[0m",
      "\u001b[1;31mAttributeError\u001b[0m                            Traceback (most recent call last)",
      "\u001b[1;32md:\\pythonStudy\\code\\log-wk3.ipynb Cell 5\u001b[0m in \u001b[0;36m<cell line: 16>\u001b[1;34m()\u001b[0m\n\u001b[0;32m     <a href='vscode-notebook-cell:/d%3A/pythonStudy/code/log-wk3.ipynb#W5sZmlsZQ%3D%3D?line=12'>13</a>\u001b[0m \u001b[39mimport\u001b[39;00m \u001b[39mtime\u001b[39;00m\n\u001b[0;32m     <a href='vscode-notebook-cell:/d%3A/pythonStudy/code/log-wk3.ipynb#W5sZmlsZQ%3D%3D?line=13'>14</a>\u001b[0m model \u001b[39m=\u001b[39m polynomial_model(degree\u001b[39m=\u001b[39m\u001b[39m2\u001b[39m, penalty\u001b[39m=\u001b[39m\u001b[39m'\u001b[39m\u001b[39ml1\u001b[39m\u001b[39m'\u001b[39m) \u001b[39m#我们使用L1范数作为正则项（参数penalty='l1'）\u001b[39;00m\n\u001b[1;32m---> <a href='vscode-notebook-cell:/d%3A/pythonStudy/code/log-wk3.ipynb#W5sZmlsZQ%3D%3D?line=15'>16</a>\u001b[0m start \u001b[39m=\u001b[39m time\u001b[39m.\u001b[39;49mclock()\n\u001b[0;32m     <a href='vscode-notebook-cell:/d%3A/pythonStudy/code/log-wk3.ipynb#W5sZmlsZQ%3D%3D?line=16'>17</a>\u001b[0m model\u001b[39m.\u001b[39mfit(X_train, y_train)\n\u001b[0;32m     <a href='vscode-notebook-cell:/d%3A/pythonStudy/code/log-wk3.ipynb#W5sZmlsZQ%3D%3D?line=18'>19</a>\u001b[0m train_score \u001b[39m=\u001b[39m model\u001b[39m.\u001b[39mscore(X_train, y_train)\n",
      "\u001b[1;31mAttributeError\u001b[0m: module 'time' has no attribute 'clock'"
     ]
    }
   ],
   "source": [
    "\n",
    "from sklearn.linear_model import LogisticRegression\n",
    "from sklearn.preprocessing import PolynomialFeatures\n",
    "from sklearn.pipeline import Pipeline\n",
    "\n",
    "# 增加多项式预处理\n",
    "def polynomial_model(degree=1, **kwarg):\n",
    "    polynomial_features = PolynomialFeatures(degree=degree, include_bias=False)\n",
    "    logistic_regression = LogisticRegression(**kwarg)\n",
    "    pipeline = Pipeline([(\"polynomial_features\", polynomial_features), (\"logistic_regression\", logistic_regression)])\n",
    "    return pipeline\n",
    "\n",
    "# 接着，增加二项多项式特征，创建并训练模型\n",
    "import time\n",
    "model = polynomial_model(degree=2, penalty='l1') #我们使用L1范数作为正则项（参数penalty='l1'）\n",
    "\n",
    "start = time.clock()\n",
    "model.fit(X_train, y_train)\n",
    "\n",
    "train_score = model.score(X_train, y_train)\n",
    "cv_score = model.score(X_test, y_test)\n",
    "print('elaspe: {0:.6f}; train_score: {1: 0.6f}; cv_score: {2: .6f}'.format(time.clock()-start, train_score, cv_score))\n",
    "\n"
   ]
  },
  {
   "cell_type": "code",
   "execution_count": 24,
   "metadata": {},
   "outputs": [],
   "source": [
    "#_*_coding:utf-8_*_\n",
    "from numpy import *\n",
    " \n",
    "# 读取数据\n",
    "def loadDataSet(filename):\n",
    "    '''\n",
    "        对于testSet.txt，每行前两个值分别是X1和X2，第三个值数据对应的类别标签\n",
    "        而且为了设置方便，该函数还将X0的值设置为1.0\n",
    "        :return:\n",
    "        '''\n",
    "    dataMat = []\n",
    "    labelMat = []\n",
    "    fr = open(filename)\n",
    "    for line in fr.readlines():\n",
    "        lineArr = line.strip().split()\n",
    "        dataMat.append([1.0, float(lineArr[0]), float(lineArr[1])])\n",
    "        labelMat.append(int(lineArr[2]))\n",
    "    return dataMat,labelMat\n",
    " \n",
    "def sigmoid(inX):\n",
    "    return 1.0/(1+exp(-inX))\n",
    " \n",
    "def gradAscent(dataMatIn,classLabels):\n",
    "    '''\n",
    "        :param dataMatIn: 是一个2维Numpy数组，每列分别代表每个不同的特征\n",
    "        每行则代表每个训练样本。\n",
    "        :param classLabels: 是类别标签，是一个1*100的行向量，为了便于矩阵运算，需要将行向量\n",
    "        转换为列向量，就是矩阵的转置，再将其赋值与labelMat。\n",
    "        :return:\n",
    "        '''\n",
    "    dataMatrix = mat(dataMatIn)\n",
    "    labelMat = mat(classLabels).transpose()\n",
    "    # labelMat = mat(classLabels).T\n",
    "    m,n = shape(dataMatrix)\n",
    "    # alpha是向目标移动的步长\n",
    "    alpha = 0.001\n",
    "    # 迭代次数\n",
    "    maxCycles = 500\n",
    "    weights = ones((n,1))\n",
    "    for k in range(maxCycles):\n",
    "        h = sigmoid(dataMatrix*weights)\n",
    "        error = (labelMat-h)\n",
    "        weights = weights + alpha*dataMatrix.transpose()*error\n",
    "    return weights"
   ]
  },
  {
   "cell_type": "code",
   "execution_count": null,
   "metadata": {},
   "outputs": [],
   "source": []
  }
 ],
 "metadata": {
  "kernelspec": {
   "display_name": "Python 3.8.2 64-bit",
   "language": "python",
   "name": "python3"
  },
  "language_info": {
   "codemirror_mode": {
    "name": "ipython",
    "version": 3
   },
   "file_extension": ".py",
   "mimetype": "text/x-python",
   "name": "python",
   "nbconvert_exporter": "python",
   "pygments_lexer": "ipython3",
   "version": "3.8.2"
  },
  "orig_nbformat": 4,
  "vscode": {
   "interpreter": {
    "hash": "f0aff2940ba2c1f332a0d939276085247018ceea080d892981f4077d3ced65aa"
   }
  }
 },
 "nbformat": 4,
 "nbformat_minor": 2
}
