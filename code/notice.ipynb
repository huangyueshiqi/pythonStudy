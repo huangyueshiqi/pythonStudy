{
 "cells": [
  {
   "cell_type": "code",
   "execution_count": null,
   "metadata": {},
   "outputs": [],
   "source": [
    "#python38 -m pip install scikit-learn --user"
   ]
  }
 ],
 "metadata": {
  "kernelspec": {
   "display_name": "Python 3.8.2 64-bit",
   "language": "python",
   "name": "python3"
  },
  "language_info": {
   "name": "python",
   "version": "3.8.2"
  },
  "orig_nbformat": 4,
  "vscode": {
   "interpreter": {
    "hash": "f0aff2940ba2c1f332a0d939276085247018ceea080d892981f4077d3ced65aa"
   }
  }
 },
 "nbformat": 4,
 "nbformat_minor": 2
}
