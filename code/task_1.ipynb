{
 "cells": [
  {
   "cell_type": "code",
   "execution_count": null,
   "metadata": {},
   "outputs": [],
   "source": [
    "# 读取数据\n",
    "import numpy as np\n",
    "import pandas as pd\n",
    "df = pd.read_csv('iris.data')\n",
    "# 指定列名\n",
    "df.columns=['sepal_len', 'sepal_wid', 'petal_len', 'petal_wid', 'class']\n",
    "# 将数据表拆分为数据X和类标签y\n",
    "X = df.ix[:,0:4].values\n",
    "y = df.ix[:,4].values\n"
   ]
  }
 ],
 "metadata": {
  "kernelspec": {
   "display_name": "Python 3.8.2 64-bit",
   "language": "python",
   "name": "python3"
  },
  "language_info": {
   "name": "python",
   "version": "3.8.2"
  },
  "orig_nbformat": 4,
  "vscode": {
   "interpreter": {
    "hash": "f0aff2940ba2c1f332a0d939276085247018ceea080d892981f4077d3ced65aa"
   }
  }
 },
 "nbformat": 4,
 "nbformat_minor": 2
}
