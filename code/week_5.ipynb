{
 "cells": [
  {
   "cell_type": "code",
   "execution_count": 1,
   "metadata": {},
   "outputs": [],
   "source": [
    "import yahoo_fin.stock_info as si\n",
    "import pandas as pd\n",
    "import numpy as np\n",
    "import seaborn as sns\n",
    "import matplotlib.pyplot as plt"
   ]
  },
  {
   "cell_type": "code",
   "execution_count": 2,
   "metadata": {},
   "outputs": [
    {
     "name": "stdout",
     "output_type": "stream",
     "text": [
      "['AAPL', 'AMGN', 'AXP', 'BA', 'CAT', 'CRM', 'CSCO', 'CVX', 'DIS', 'DOW', 'GS', 'HD', 'HON', 'IBM', 'INTC', 'JNJ', 'JPM', 'KO', 'MCD', 'MMM', 'MRK', 'MSFT', 'NKE', 'PG', 'TRV', 'UNH', 'V', 'VZ', 'WBA', 'WMT']\n"
     ]
    }
   ],
   "source": [
    "dow_jones_tickers = si.tickers_dow()\n",
    "print(dow_jones_tickers)\n"
   ]
  },
  {
   "cell_type": "code",
   "execution_count": 3,
   "metadata": {},
   "outputs": [
    {
     "data": {
      "text/plain": [
       "['AAPL',\n",
       " 'AMGN',\n",
       " 'AXP',\n",
       " 'BA',\n",
       " 'CAT',\n",
       " 'CRM',\n",
       " 'CSCO',\n",
       " 'CVX',\n",
       " 'DIS',\n",
       " 'DOW',\n",
       " 'GS',\n",
       " 'HD',\n",
       " 'HON',\n",
       " 'IBM',\n",
       " 'INTC',\n",
       " 'JNJ',\n",
       " 'JPM',\n",
       " 'KO',\n",
       " 'MCD',\n",
       " 'MMM',\n",
       " 'MRK',\n",
       " 'MSFT',\n",
       " 'NKE',\n",
       " 'PG',\n",
       " 'TRV',\n",
       " 'UNH',\n",
       " 'V',\n",
       " 'VZ',\n",
       " 'WBA',\n",
       " 'WMT']"
      ]
     },
     "execution_count": 3,
     "metadata": {},
     "output_type": "execute_result"
    }
   ],
   "source": [
    "dow_jones_tickers"
   ]
  },
  {
   "cell_type": "code",
   "execution_count": 4,
   "metadata": {},
   "outputs": [
    {
     "data": {
      "text/html": [
       "<div>\n",
       "<style scoped>\n",
       "    .dataframe tbody tr th:only-of-type {\n",
       "        vertical-align: middle;\n",
       "    }\n",
       "\n",
       "    .dataframe tbody tr th {\n",
       "        vertical-align: top;\n",
       "    }\n",
       "\n",
       "    .dataframe thead th {\n",
       "        text-align: right;\n",
       "    }\n",
       "</style>\n",
       "<table border=\"1\" class=\"dataframe\">\n",
       "  <thead>\n",
       "    <tr style=\"text-align: right;\">\n",
       "      <th></th>\n",
       "      <th>AAPL</th>\n",
       "      <th>AMGN</th>\n",
       "      <th>AXP</th>\n",
       "      <th>BA</th>\n",
       "      <th>CAT</th>\n",
       "      <th>CRM</th>\n",
       "      <th>CSCO</th>\n",
       "      <th>CVX</th>\n",
       "      <th>DIS</th>\n",
       "      <th>DOW</th>\n",
       "      <th>...</th>\n",
       "      <th>MRK</th>\n",
       "      <th>MSFT</th>\n",
       "      <th>NKE</th>\n",
       "      <th>PG</th>\n",
       "      <th>TRV</th>\n",
       "      <th>UNH</th>\n",
       "      <th>V</th>\n",
       "      <th>VZ</th>\n",
       "      <th>WBA</th>\n",
       "      <th>WMT</th>\n",
       "    </tr>\n",
       "  </thead>\n",
       "  <tbody>\n",
       "    <tr>\n",
       "      <th>0</th>\n",
       "      <td>148.190002</td>\n",
       "      <td>223.529999</td>\n",
       "      <td>159.750000</td>\n",
       "      <td>212.669998</td>\n",
       "      <td>204.940002</td>\n",
       "      <td>256.130005</td>\n",
       "      <td>58.220001</td>\n",
       "      <td>94.300003</td>\n",
       "      <td>175.119995</td>\n",
       "      <td>60.889999</td>\n",
       "      <td>...</td>\n",
       "      <td>78.680000</td>\n",
       "      <td>304.359985</td>\n",
       "      <td>167.789993</td>\n",
       "      <td>145.089996</td>\n",
       "      <td>160.839996</td>\n",
       "      <td>429.709991</td>\n",
       "      <td>231.360001</td>\n",
       "      <td>55.520000</td>\n",
       "      <td>48.299999</td>\n",
       "      <td>151.449997</td>\n",
       "    </tr>\n",
       "    <tr>\n",
       "      <th>1</th>\n",
       "      <td>149.710007</td>\n",
       "      <td>225.639999</td>\n",
       "      <td>160.449997</td>\n",
       "      <td>219.399994</td>\n",
       "      <td>209.139999</td>\n",
       "      <td>260.519989</td>\n",
       "      <td>58.540001</td>\n",
       "      <td>96.730003</td>\n",
       "      <td>177.660004</td>\n",
       "      <td>62.060001</td>\n",
       "      <td>...</td>\n",
       "      <td>78.379997</td>\n",
       "      <td>304.649994</td>\n",
       "      <td>169.720001</td>\n",
       "      <td>144.350006</td>\n",
       "      <td>159.899994</td>\n",
       "      <td>425.359985</td>\n",
       "      <td>234.139999</td>\n",
       "      <td>55.419998</td>\n",
       "      <td>48.509998</td>\n",
       "      <td>150.449997</td>\n",
       "    </tr>\n",
       "    <tr>\n",
       "      <th>2</th>\n",
       "      <td>149.619995</td>\n",
       "      <td>224.380005</td>\n",
       "      <td>161.199997</td>\n",
       "      <td>221.429993</td>\n",
       "      <td>212.589996</td>\n",
       "      <td>259.660004</td>\n",
       "      <td>59.320000</td>\n",
       "      <td>97.839996</td>\n",
       "      <td>178.470001</td>\n",
       "      <td>63.259998</td>\n",
       "      <td>...</td>\n",
       "      <td>77.720001</td>\n",
       "      <td>302.619995</td>\n",
       "      <td>169.979996</td>\n",
       "      <td>143.179993</td>\n",
       "      <td>160.639999</td>\n",
       "      <td>423.410004</td>\n",
       "      <td>234.240005</td>\n",
       "      <td>55.009998</td>\n",
       "      <td>48.340000</td>\n",
       "      <td>148.899994</td>\n",
       "    </tr>\n",
       "    <tr>\n",
       "      <th>3</th>\n",
       "      <td>148.360001</td>\n",
       "      <td>221.589996</td>\n",
       "      <td>166.179993</td>\n",
       "      <td>221.029999</td>\n",
       "      <td>214.759995</td>\n",
       "      <td>260.850006</td>\n",
       "      <td>59.349998</td>\n",
       "      <td>98.510002</td>\n",
       "      <td>178.309998</td>\n",
       "      <td>63.869999</td>\n",
       "      <td>...</td>\n",
       "      <td>77.070000</td>\n",
       "      <td>302.010010</td>\n",
       "      <td>169.839996</td>\n",
       "      <td>142.669998</td>\n",
       "      <td>162.580002</td>\n",
       "      <td>419.739990</td>\n",
       "      <td>232.589996</td>\n",
       "      <td>54.930000</td>\n",
       "      <td>48.650002</td>\n",
       "      <td>148.960007</td>\n",
       "    </tr>\n",
       "    <tr>\n",
       "      <th>4</th>\n",
       "      <td>147.539993</td>\n",
       "      <td>221.470001</td>\n",
       "      <td>165.509995</td>\n",
       "      <td>216.500000</td>\n",
       "      <td>211.240005</td>\n",
       "      <td>267.790009</td>\n",
       "      <td>59.200001</td>\n",
       "      <td>97.220001</td>\n",
       "      <td>176.559998</td>\n",
       "      <td>63.650002</td>\n",
       "      <td>...</td>\n",
       "      <td>76.570000</td>\n",
       "      <td>299.089996</td>\n",
       "      <td>166.919998</td>\n",
       "      <td>142.419998</td>\n",
       "      <td>159.970001</td>\n",
       "      <td>416.850006</td>\n",
       "      <td>230.520004</td>\n",
       "      <td>54.599998</td>\n",
       "      <td>47.840000</td>\n",
       "      <td>147.350006</td>\n",
       "    </tr>\n",
       "  </tbody>\n",
       "</table>\n",
       "<p>5 rows × 30 columns</p>\n",
       "</div>"
      ],
      "text/plain": [
       "         AAPL        AMGN         AXP          BA         CAT         CRM  \\\n",
       "0  148.190002  223.529999  159.750000  212.669998  204.940002  256.130005   \n",
       "1  149.710007  225.639999  160.449997  219.399994  209.139999  260.519989   \n",
       "2  149.619995  224.380005  161.199997  221.429993  212.589996  259.660004   \n",
       "3  148.360001  221.589996  166.179993  221.029999  214.759995  260.850006   \n",
       "4  147.539993  221.470001  165.509995  216.500000  211.240005  267.790009   \n",
       "\n",
       "        CSCO        CVX         DIS        DOW  ...        MRK        MSFT  \\\n",
       "0  58.220001  94.300003  175.119995  60.889999  ...  78.680000  304.359985   \n",
       "1  58.540001  96.730003  177.660004  62.060001  ...  78.379997  304.649994   \n",
       "2  59.320000  97.839996  178.470001  63.259998  ...  77.720001  302.619995   \n",
       "3  59.349998  98.510002  178.309998  63.869999  ...  77.070000  302.010010   \n",
       "4  59.200001  97.220001  176.559998  63.650002  ...  76.570000  299.089996   \n",
       "\n",
       "          NKE          PG         TRV         UNH           V         VZ  \\\n",
       "0  167.789993  145.089996  160.839996  429.709991  231.360001  55.520000   \n",
       "1  169.720001  144.350006  159.899994  425.359985  234.139999  55.419998   \n",
       "2  169.979996  143.179993  160.639999  423.410004  234.240005  55.009998   \n",
       "3  169.839996  142.669998  162.580002  419.739990  232.589996  54.930000   \n",
       "4  166.919998  142.419998  159.970001  416.850006  230.520004  54.599998   \n",
       "\n",
       "         WBA         WMT  \n",
       "0  48.299999  151.449997  \n",
       "1  48.509998  150.449997  \n",
       "2  48.340000  148.899994  \n",
       "3  48.650002  148.960007  \n",
       "4  47.840000  147.350006  \n",
       "\n",
       "[5 rows x 30 columns]"
      ]
     },
     "execution_count": 4,
     "metadata": {},
     "output_type": "execute_result"
    }
   ],
   "source": [
    "data_table=[]\n",
    "for ticker in dow_jones_tickers:\n",
    "    data_table.append(si.get_data(ticker,'2021-08-20')['close'].values)\n",
    "arr = np.array(data_table).transpose()\n",
    "df = pd.DataFrame(arr, columns = dow_jones_tickers)\n",
    "df.head()"
   ]
  },
  {
   "cell_type": "code",
   "execution_count": 6,
   "metadata": {},
   "outputs": [],
   "source": [
    "dow_divisor=0.1517275\n",
    "price_data=df.to_numpy()\n",
    "dow_index=(np.sum(price_data,axis=1)/dow_divisor)"
   ]
  },
  {
   "cell_type": "code",
   "execution_count": 7,
   "metadata": {},
   "outputs": [
    {
     "data": {
      "image/png": "[encoded data removed]",
      "text/plain": [
       "<Figure size 360x360 with 1 Axes>"
      ]
     },
     "metadata": {
      "needs_background": "light"
     },
     "output_type": "display_data"
    }
   ],
   "source": [
    "g = sns.relplot(x=range(0,len(dow_index)),y=dow_index, kind=\"line\")"
   ]
  },
  {
   "cell_type": "code",
   "execution_count": 8,
   "metadata": {},
   "outputs": [],
   "source": [
    "risk_free_rate=0.0288"
   ]
  },
  {
   "cell_type": "code",
   "execution_count": 9,
   "metadata": {},
   "outputs": [],
   "source": [
    "def sharpe_ratio_calc(data,risk_free_rate):\n",
    "    sharpe_ratio=((data[-1]-data[0])/data[0]-risk_free_rate)/np.std((data[1:]-data[0:-1])/data[0:-1])\n",
    "    return sharpe_ratio"
   ]
  },
  {
   "cell_type": "code",
   "execution_count": 10,
   "metadata": {},
   "outputs": [
    {
     "name": "stdout",
     "output_type": "stream",
     "text": [
      "-6.400758671866319\n"
     ]
    }
   ],
   "source": [
    "print(sharpe_ratio_calc(dow_index,risk_free_rate))"
   ]
  },
  {
   "cell_type": "code",
   "execution_count": 45,
   "metadata": {},
   "outputs": [],
   "source": [
    "def price_adjustment(price_data,new_weight):\n",
    "    total_capital=np.sum(price_data[0,:])\n",
    "    new_weight[new_weight<0]=0.001\n",
    "    new_weight=new_weight/sum(new_weight)\n",
    "    adjusted_price=price_data*(new_weight*total_capital/price_data[0,:])\n",
    "    price=(np.sum(adjusted_price,axis=1)/dow_divisor)\n",
    "    return price, new_weight\n"
   ]
  },
  {
   "cell_type": "code",
   "execution_count": 48,
   "metadata": {},
   "outputs": [],
   "source": [
    "def evaluate(price_data,new_weight):\n",
    "    price,w=price_adjustment(price_data,new_weight)\n",
    "    return sharpe_ratio_calc(price,risk_free_rate)"
   ]
  },
  {
   "cell_type": "code",
   "execution_count": 13,
   "metadata": {},
   "outputs": [],
   "source": [
    "def selection(weight,score,population):\n",
    "    return weight[np.argsort(score)[int(population/2):],:]"
   ]
  },
  {
   "cell_type": "code",
   "execution_count": 21,
   "metadata": {},
   "outputs": [],
   "source": [
    "def crossover(new_parents):\n",
    "    pairs=np.split(new_parents,2)\n",
    "    children=np.zeros(new_parents.shape)\n",
    "    counter=0\n",
    "\n",
    "    for i in range(pairs[0].shape[0]):\n",
    "        position=np.random.choice(pairs[0].shape[1], int(pairs[0].shape[1]/2))\n",
    "        p1=pairs[0][i]\n",
    "        p2=pairs[1][i]\n",
    "        children[counter,:]=p1\n",
    "        children[counter,position]=p2[position]\n",
    "        counter+=1\n",
    "        children[counter,:]=p2\n",
    "        children[counter,position]=p1[position]\n",
    "        counter+=1\n",
    "    \n",
    "    return children"
   ]
  },
  {
   "cell_type": "code",
   "execution_count": 41,
   "metadata": {},
   "outputs": [],
   "source": [
    "def mutation(children):\n",
    "    mutation_rate=0.5\n",
    "    for i in range(children.shape[0]):\n",
    "        for j in range(children.shape[1]):\n",
    "            if np.random.rand()>mutation_rate:\n",
    "                children[i,j]=children[i,j]*(1+np.random.randint(-1000,1000)/10000)\n",
    "    return children"
   ]
  },
  {
   "cell_type": "code",
   "execution_count": 64,
   "metadata": {},
   "outputs": [],
   "source": [
    "population=100\n",
    "new_population=np.random.rand(population,30)\n",
    "sharpe_ratio=np.zeros((population))\n",
    "num_gen=100\n",
    "for k in range(num_gen):\n",
    "    for i in range(population):\n",
    "        sharpe_ratio[i]=evaluate(price_data,new_population[i,:])\n",
    "\n",
    "    new_parents=selection(new_population,sharpe_ratio,population)\n",
    "    children=crossover(new_parents)\n",
    "    children=mutation(children)\n",
    "    new_population=np.vstack((new_parents,children))\n",
    "    \n",
    "\n",
    "for i in range(population):\n",
    "    sharpe_ratio[i]=evaluate(price_data,new_population[i,:])\n",
    "\n",
    "index=np.argmax(sharpe_ratio)\n",
    "new_weight=new_population[index,:]\n",
    "new_price,percentage=price_adjustment(price_data,new_weight)"
   ]
  },
  {
   "cell_type": "code",
   "execution_count": 65,
   "metadata": {},
   "outputs": [
    {
     "name": "stdout",
     "output_type": "stream",
     "text": [
      "32.2116494062456\n",
      "[1.80586813e-02 1.54278784e-02 4.61144264e-05 2.77259033e-03\n",
      " 1.73315916e-03 6.12859911e-04 2.38637409e-03 7.88614196e-01\n",
      " 4.83786519e-04 2.06667913e-03 1.06296022e-03 5.68543371e-03\n",
      " 5.22424743e-04 7.42264643e-03 1.86204944e-03 5.81290552e-04\n",
      " 1.68257760e-03 1.89898680e-02 1.59174550e-02 1.28180076e-03\n",
      " 2.29298417e-02 4.59115870e-03 8.17804781e-04 2.47336409e-03\n",
      " 6.49446315e-04 7.76835720e-02 2.78038847e-04 2.33237621e-03\n",
      " 5.36387551e-04 4.97183770e-04]\n"
     ]
    }
   ],
   "source": [
    "print(sharpe_ratio[index])\n",
    "print(percentage)"
   ]
  },
  {
   "cell_type": "code",
   "execution_count": 68,
   "metadata": {},
   "outputs": [
    {
     "name": "stdout",
     "output_type": "stream",
     "text": [
      "-4.013854780283731\n",
      "56.08752022686028\n"
     ]
    }
   ],
   "source": [
    "#没有优化的收益\n",
    "print((dow_index[-1]-dow_index[0])/dow_index[0]*100)\n",
    "#优化后的收益\n",
    "print((new_price[-1]-new_price[0])/new_price[0]*100)\n"
   ]
  },
  {
   "cell_type": "code",
   "execution_count": 66,
   "metadata": {},
   "outputs": [
    {
     "data": {
      "text/plain": [
       "<AxesSubplot:>"
      ]
     },
     "execution_count": 66,
     "metadata": {},
     "output_type": "execute_result"
    },
    {
     "data": {
      "image/png": "[encoded data removed]",
      "text/plain": [
       "<Figure size 432x288 with 1 Axes>"
      ]
     },
     "metadata": {
      "needs_background": "light"
     },
     "output_type": "display_data"
    }
   ],
   "source": [
    "fig, ax = plt.subplots()\n",
    "sns.lineplot(x=range(0,len(dow_index)),y=dow_index,color='b')\n",
    "sns.lineplot(x=range(0,len(dow_index)),y=new_price,color='c')"
   ]
  }
 ],
 "metadata": {
  "kernelspec": {
   "display_name": "Python 3.8.6 64-bit ('3.8.6')",
   "language": "python",
   "name": "python3"
  },
  "language_info": {
   "codemirror_mode": {
    "name": "ipython",
    "version": 3
   },
   "file_extension": ".py",
   "mimetype": "text/x-python",
   "name": "python",
   "nbconvert_exporter": "python",
   "pygments_lexer": "ipython3",
   "version": "3.8.6"
  },
  "orig_nbformat": 4,
  "vscode": {
   "interpreter": {
    "hash": "b000d2e73b413fb98911bad14c4285d9be1b669c79bbccb8c03c88fe19652e85"
   }
  }
 },
 "nbformat": 4,
 "nbformat_minor": 2
}
