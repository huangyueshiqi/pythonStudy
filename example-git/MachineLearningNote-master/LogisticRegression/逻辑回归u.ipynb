{
 "cells": [
  {
   "cell_type": "code",
   "execution_count": 12,
   "metadata": {},
   "outputs": [
    {
     "name": "stderr",
     "output_type": "stream",
     "text": [
      "C:\\Users\\DL\\AppData\\Local\\Temp\\ipykernel_4248\\2888161991.py:7: RuntimeWarning: overflow encountered in exp\n",
      "  return 1.0/(1+exp(-inX))\n"
     ]
    },
    {
     "name": "stdout",
     "output_type": "stream",
     "text": [
      "the error rate of this test is  0.298507\n",
      "the error rate of this test is  0.388060\n",
      "the error rate of this test is  0.388060\n",
      "the error rate of this test is  0.388060\n",
      "the error rate of this test is  0.313433\n",
      "the error rate of this test is  0.343284\n",
      "after 6 iterations  the average error rate is 0.519900\n"
     ]
    }
   ],
   "source": [
    "#-*_coding:utf-8_*_\n",
    "import math\n",
    "from numpy import *\n",
    " \n",
    "# Sigmoid函数的计算\n",
    "def sigmoid(inX):\n",
    "    return 1.0/(1+exp(-inX))\n",
    " \n",
    "# 改进的随机梯度上升算法\n",
    "def stocGradAscent1(dataMatrix,classLabels,numIter=150):\n",
    "    m,n = shape(dataMatrix)\n",
    "    weights = ones(n)\n",
    "    for j in range(numIter):\n",
    "        dataIndex = list(range(m))\n",
    "        for i in range(m):\n",
    "            alpha = 4/(1.0+j+i)+0.01\n",
    "            randIndex = int(random.uniform(0,len(dataIndex)))\n",
    "            h = sigmoid(sum(dataMatrix[randIndex]*weights))\n",
    "            error = classLabels[randIndex] - h\n",
    "            weights = weights + alpha *error*dataMatrix[randIndex]\n",
    "            del(dataIndex[randIndex])\n",
    "    return weights\n",
    " \n",
    " \n",
    "# Logistic回归分类函数\n",
    "def  classifyVetor(inX,weights):\n",
    "    prob = sigmoid(sum(inX*weights))\n",
    "    if prob > 0.5:\n",
    "        return 1.0\n",
    "    else:\n",
    "        return 0.0\n",
    " \n",
    "def colicTest(filetrain,filetest):\n",
    "    frTrain = open(filetrain)\n",
    "    frTest = open(filetest)\n",
    "    trainingSet = []\n",
    "    trainingLabeles = []\n",
    "    for line in frTrain.readlines():\n",
    "        currLine = line.strip().split('\\t')\n",
    "        lineArr = []\n",
    "        for i in range(21):\n",
    "            lineArr.append(float(currLine[i]))\n",
    "        trainingSet.append(lineArr)\n",
    "        trainingLabeles.append(float(currLine[21]))\n",
    "    trainWeights = stocGradAscent1(array(trainingSet),trainingLabeles,500)\n",
    "    errorCount = 0\n",
    "    numTestVec = 0\n",
    "    for line in frTest.readlines():\n",
    "        numTestVec += 1.0\n",
    "        currLine = line.strip().split('\\t')\n",
    "        lineArr =[]\n",
    "        for i in range(21):\n",
    "            lineArr.append(float(currLine[i]))\n",
    "        if int(classifyVetor(array(lineArr),trainWeights)) != int(currLine[21]):\n",
    "            errorCount += 1\n",
    "    errorRate = (float(errorCount)/numTestVec)\n",
    "    print('the error rate of this test is  %f'%errorRate)\n",
    "    return errorRate\n",
    " \n",
    "def multTest(filetrain,filetest):\n",
    "    numTests = 6\n",
    "    errorSum = 1.0\n",
    "    for k in range(numTests):\n",
    "        errorSum += colicTest(filetrain,filetest)\n",
    "    print('after %d iterations  the average error rate is %f'%(numTests,errorSum/float(numTests)))\n",
    " \n",
    " \n",
    "if __name__ == '__main__':\n",
    "    filetrain = 'horseColicTraining.txt'\n",
    "    filetest = 'horseColicTest.txt'\n",
    "    multTest(filetrain,filetest)"
   ]
  },
  {
   "cell_type": "code",
   "execution_count": 13,
   "metadata": {},
   "outputs": [
    {
     "name": "stdout",
     "output_type": "stream",
     "text": [
      "      Exam 1     Exam 2  Admitted\n",
      "0  34.623660  78.024693         0\n",
      "1  30.286711  43.894998         0\n",
      "2  35.847409  72.902198         0\n",
      "3  60.182599  86.308552         1\n",
      "4  79.032736  75.344376         1\n",
      "5  45.083277  56.316372         0\n",
      "6  61.106665  96.511426         1\n",
      "7  75.024746  46.554014         1\n",
      "8  76.098787  87.420570         1\n",
      "9  84.432820  43.533393         1\n"
     ]
    }
   ],
   "source": [
    "import numpy as np\n",
    "import pandas as pd\n",
    "import matplotlib.pyplot as plt\n",
    " \n",
    "path = 'LogiReg_data.txt'\n",
    "pdData = pd.read_csv(path, header=None, names=['Exam 1', 'Exam 2', 'Admitted'])\n",
    "print(pdData.head(10))"
   ]
  },
  {
   "cell_type": "code",
   "execution_count": 14,
   "metadata": {},
   "outputs": [
    {
     "data": {
      "text/plain": [
       "Text(0, 0.5, 'Exam 2 Score')"
      ]
     },
     "execution_count": 14,
     "metadata": {},
     "output_type": "execute_result"
    },
    {
     "data": {
      "image/png": "[encoded data removed]",
      "text/plain": [
       "<Figure size 360x360 with 1 Axes>"
      ]
     },
     "metadata": {
      "needs_background": "light"
     },
     "output_type": "display_data"
    }
   ],
   "source": [
    "positive = pdData[pdData['Admitted'] == 1]\n",
    "negative = pdData[pdData['Admitted'] == 0]\n",
    "fig, ax = plt.subplots(figsize=(5, 5))\n",
    "ax.scatter(positive['Exam 1'], positive['Exam 2'], s=30, c='b', marker='o', label='Admitted')\n",
    "ax.scatter(negative['Exam 1'], negative['Exam 2'], s=30, c='r', marker='x', label='Not Admitted')\n",
    "ax.legend()\n",
    "ax.set_xlabel('Exam 1 Score')\n",
    "ax.set_ylabel('Exam 2 Score')"
   ]
  },
  {
   "cell_type": "code",
   "execution_count": 15,
   "metadata": {},
   "outputs": [
    {
     "data": {
      "text/plain": [
       "[<matplotlib.lines.Line2D at 0x1b08ddb45e0>]"
      ]
     },
     "execution_count": 15,
     "metadata": {},
     "output_type": "execute_result"
    },
    {
     "data": {
      "image/png": "[encoded data removed]",
      "text/plain": [
       "<Figure size 864x288 with 1 Axes>"
      ]
     },
     "metadata": {
      "needs_background": "light"
     },
     "output_type": "display_data"
    }
   ],
   "source": [
    "def sigmoid(z):\n",
    "    return 1 / (1 + np.exp(-z))\n",
    " \n",
    "# 如果想查看Sigmoid函数，可以运行下面代码\n",
    "nums = np.arange(-10, 10, step=1)\n",
    "fig, ax = plt.subplots(figsize=(12, 4))\n",
    "ax.plot(nums, sigmoid(nums), 'r')"
   ]
  },
  {
   "cell_type": "code",
   "execution_count": 16,
   "metadata": {},
   "outputs": [
    {
     "name": "stdout",
     "output_type": "stream",
     "text": [
      "   Ones     Exam 1     Exam 2  Admitted\n",
      "0     1  34.623660  78.024693         0\n",
      "1     1  30.286711  43.894998         0\n",
      "2     1  35.847409  72.902198         0\n",
      "3     1  60.182599  86.308552         1\n",
      "4     1  79.032736  75.344376         1\n"
     ]
    }
   ],
   "source": [
    "# 增加一行1  在第0列\n",
    "pdData.insert(0, 'Ones', 1)\n",
    "print(pdData.head())\n",
    "# 设置X和Y  即训练数据和训练变量\n",
    "orig_data = pdData.values\n",
    "cols = orig_data.shape[1]  # (100, 4)\n",
    "X = orig_data[:, 0:cols-1]   # 等价于 np.matrix(X.values)\n",
    "Y = orig_data[:, cols-1:cols]  # 等价于 np.matrox(data.iloc[:, 3:4].value\n",
    " \n",
    "# 传递numpu矩阵 并初始化参数矩阵 theta\n",
    "theta = np.zeros([1, 3])  # [[0. 0. 0.]]"
   ]
  },
  {
   "cell_type": "code",
   "execution_count": 17,
   "metadata": {},
   "outputs": [],
   "source": [
    "def cost(X, y, theta):\n",
    "    left = np.multiply(-y, np.log(model(X, theta)))\n",
    "    right = np.multiply(1-y, np.log(1 - model(X, theta)))\n",
    "    return np.sum(left - right) / (len(X))"
   ]
  },
  {
   "cell_type": "code",
   "execution_count": 18,
   "metadata": {},
   "outputs": [],
   "source": [
    "def gradient(X, y, theta):\n",
    "    grad = np.zeros(theta.shape)\n",
    "    error = (model(X, theta)-y).ravel()\n",
    "    for j in range(len(theta.ravel())):  # for each parmeter\n",
    "        term = np.multiply(error, X[:, j])\n",
    "        grad[0, j] = np.sum(term) / len(X)\n",
    "    return grad"
   ]
  },
  {
   "cell_type": "code",
   "execution_count": 19,
   "metadata": {},
   "outputs": [],
   "source": [
    "# 比较三种不同梯度下降方法\n",
    "STOP_ITER = 0\n",
    "STOP_COST = 1\n",
    "STOP_GRAD = 2\n",
    " \n",
    "def stopCriterion(type, value, threshold):\n",
    "    # 设定三种不同的停止策略\n",
    "    if type == STOP_ITER:\n",
    "        return value > threshold\n",
    "    elif type == STOP_COST:\n",
    "        return abs(value[-1]-value[-2]) < threshold\n",
    "    elif type == STOP_GRAD:\n",
    "        return np.linalg.norm(value) < threshold\n",
    " \n",
    "# 洗牌\n",
    "def shuffleData(data):\n",
    "    np.random.shuffle(data)\n",
    "    cols = data.shape[1]\n",
    "    X = data[:, 0:cols-1]\n",
    "    y = data[:, cols-1:]\n",
    "    return X, y\n",
    " \n",
    "def descent(data, theta, batchSize, stopType, thresh, alpha):\n",
    "    # 梯度下降求解\n",
    "    init_time = time.time()\n",
    "    i = 0  # 迭代次数\n",
    "    k = 0  # batch\n",
    "    X, y = shuffleData(data)\n",
    "    grad = np.zeros(theta.shape)  # 计算的梯度\n",
    "    costs = [cost(X, y, theta)]  # 损失值\n",
    " \n",
    "    while True:\n",
    "        grad = gradient(X[k:k+batchSize], y[k:k+batchSize], theta)\n",
    "        k += batchSize  # 取batch数量个数据\n",
    "        if k>=n:\n",
    "            k = 0\n",
    "            X, y = shuffleData(data)  # 重新洗牌\n",
    "        theta = theta = alpha*grad  # 参数更新\n",
    "        costs.append(cost(X, y, theta))  # 计算新的损失\n",
    "        i += 1\n",
    " \n",
    "        if stopType == STOP_ITER:\n",
    "            value = i\n",
    "        elif stopType == STOP_COST:\n",
    "            value = costs\n",
    "        elif stopType == STOP_GRAD:\n",
    "            value = grad\n",
    "        if stopCriterion(stopType, value, thresh):\n",
    "            break\n",
    "    return theta, i-1, costs, grad, time.time()-init_time"
   ]
  },
  {
   "cell_type": "code",
   "execution_count": 20,
   "metadata": {},
   "outputs": [],
   "source": [
    "def runExpe(data, theta, batchSize, stopType, thresh, alpha):\n",
    "    theta, iter, costs, grad, dur = descent(data, theta, batchSize, stopType, thresh, alpha)\n",
    "    name = 'Original' if (data[:, 1] > 2).sum() > 1 else 'Scaled'\n",
    "    name += 'data - learning rate: {} -'.format(alpha)\n",
    "    if batchSize == n:\n",
    "        strDescType = 'Gradient'\n",
    "    elif batchSize == 1:\n",
    "        strDescType = 'Stochastic'\n",
    "    else:\n",
    "        strDescType = 'Min-batch({})'.format(batchSize)\n",
    "    name += strDescType + 'descent - Stop: '\n",
    "    if stopType == STOP_ITER:\n",
    "        strStop = \"{} iterations\".format(thresh)\n",
    "    elif stopType == STOP_COST:\n",
    "        strStop = \"costs change < {}\".format(thresh)\n",
    "    else:\n",
    "        strStop = 'gradient norm < {}'.format(thresh)\n",
    "    name += strStop\n",
    "    print(\"***{}\\nTheta: {} - Iter:{}-Last cost: {:03.2f}--Duration: {:03.2f}s\".format(\n",
    "        name, theta, iter, costs[-1], dur\n",
    "    ))\n",
    "    fig, ax = plt.subplots(figsize=(12, 4))\n",
    "    ax.plot(np.arange(len(costs)), costs, 'r')\n",
    "    ax.set_xlabel('Iterations')\n",
    "    ax.set_ylabel('Cost')\n",
    "    ax.set_title(name.upper() + '- Error vs. Iteration')\n",
    "    return theta"
   ]
  },
  {
   "cell_type": "code",
   "execution_count": 25,
   "metadata": {},
   "outputs": [
    {
     "name": "stdout",
     "output_type": "stream",
     "text": [
      "正确率为100.0%\n"
     ]
    }
   ],
   "source": [
    "from sklearn import datasets\n",
    "from numpy import *\n",
    "from sklearn.linear_model import LogisticRegression\n",
    "from sklearn.model_selection import train_test_split\n",
    " \n",
    " \n",
    "def colicSklearn():\n",
    "    iris = datasets.load_iris()\n",
    "    X = iris.data\n",
    "    Y = iris.target\n",
    "    trainingSet,testSet,trainingLabels,testLabels = train_test_split(X,Y,test_size=0.25,random_state=40)\n",
    "    classifier = LogisticRegression(solver='sag', max_iter=5000).fit(trainingSet, trainingLabels)\n",
    "    test_accurcy = classifier.score(testSet, testLabels) * 100\n",
    "    print(\"正确率为%s%%\" % test_accurcy)\n",
    " \n",
    "if __name__  == '__main__':\n",
    "    colicSklearn()"
   ]
  },
  {
   "cell_type": "code",
   "execution_count": 30,
   "metadata": {},
   "outputs": [
    {
     "name": "stdout",
     "output_type": "stream",
     "text": [
      "\n",
      "下面这个例子，从数据产生，到数据提取，数据标准化\n",
      "模型训练和评估来说明各个API的调用过程\n",
      "\n",
      "[0.2654328  0.29439236 0.28300308 0.26682502 0.28266791 0.28481528]\n",
      "[0.45054581 0.51231759 0.48125448 0.48834837 0.51002274 0.50311622]\n",
      "[[0.29208104 0.5871492  0.84830872 1.12858912 1.41854091 1.69395877]]\n",
      "[10.34446774]\n",
      "正确率为0.9963784017212706%\n"
     ]
    },
    {
     "name": "stderr",
     "output_type": "stream",
     "text": [
      "C:\\Users\\DL\\AppData\\Local\\Temp\\ipykernel_4248\\1770151414.py:69: MatplotlibDeprecationWarning: The 'b' parameter of grid() has been renamed 'visible' since Matplotlib 3.5; support for the old name will be dropped two minor releases later.\n",
      "  plt.grid(b = True)\n"
     ]
    },
    {
     "data": {
      "image/png": "[encoded data removed]",
      "text/plain": [
       "<Figure size 432x288 with 1 Axes>"
      ]
     },
     "metadata": {},
     "output_type": "display_data"
    }
   ],
   "source": [
    "#_*_coding:utf-8_*_\n",
    "'''\n",
    "下面这个例子，从数据产生，到数据提取，数据标准化\n",
    "模型训练和评估来说明各个API的调用过程\n",
    "'''\n",
    "print(__doc__)\n",
    "from sklearn.preprocessing import StandardScaler\n",
    "from sklearn.linear_model import LinearRegression\n",
    "from sklearn.model_selection import train_test_split\n",
    "import matplotlib.pyplot as plt\n",
    "import numpy as np\n",
    "import pandas as pd\n",
    "import matplotlib as mpl\n",
    "import pylab as mpl\n",
    " \n",
    "# 设置字符集，防止中文乱码\n",
    "mpl.rcParams['font.sans-serif'] = [u'simHei']\n",
    "mpl.rcParams['axes.unicode_minus'] = False\n",
    " \n",
    "# 定义目标函数通过改函数产生对应的y\n",
    "# y = 1 *x[0] + 2 *x[1] + ... (n+1) *x[n]\n",
    "def l_model(x):\n",
    "    params = np.arange(1, x.shape[-1] +1)\n",
    "    y = np.sum(params *x) + np.random.randn(1) * 0.1\n",
    "    return y\n",
    " \n",
    "# 定义数据集\n",
    "x = pd.DataFrame(np.random.rand(500,6))\n",
    "# print(x)\n",
    "y = x.apply(lambda x_rows:pd.Series(l_model(x_rows)),axis=1)\n",
    "# print(y)\n",
    " \n",
    "# 划分数据集\n",
    "x_train, x_test, y_train, y_test = train_test_split(x,y,test_size=0.3,random_state=2)\n",
    " \n",
    "# 数据标准化\n",
    "ss = StandardScaler()\n",
    "x_train_s = ss.fit_transform(x_train)\n",
    "x_test_s = ss.fit_transform(x_test)\n",
    " \n",
    "# 输出下元数据的标准差和平均数\n",
    "print(ss.scale_)\n",
    "print(ss.mean_)\n",
    " \n",
    "# 训练模型\n",
    "lr = LinearRegression()\n",
    "lr.fit(x_train_s , y_train)\n",
    "# 训练后的输入端模型系数，如果label有两个，即y值有两列，那么是一个2D的array\n",
    "print(lr.coef_)\n",
    "# 截距\n",
    "print(lr.intercept_)\n",
    " \n",
    "# 用模型预测,并计算得分\n",
    "y_predict = lr.predict(x_test_s)\n",
    "test_accuracy = lr.score(x_test_s, y_test)\n",
    " \n",
    "print(\"正确率为%s%%\" % test_accuracy)\n",
    " \n",
    "# 预测值和实际值画图比较\n",
    "t = np.arange(len(x_test_s))\n",
    "# 建一个画布，facecolor是背景色\n",
    "plt.figure(facecolor='black')\n",
    "plt.plot(t, y_test, 'r-', linewidth= 2, label = '真实值')\n",
    "plt.plot(t, y_predict, 'b-', linewidth= 1, label = '预测值')\n",
    "# 显示图例，设置图例的位置\n",
    "plt.legend(loc= 'upper left')\n",
    "plt.title(\"线性回归预测真实值之间的关系\", fontsize = 20)\n",
    "# 加网格\n",
    "plt.grid(b = True)\n",
    "plt.show()"
   ]
  }
 ],
 "metadata": {
  "kernelspec": {
   "display_name": "Python 3.8.2 64-bit",
   "language": "python",
   "name": "python3"
  },
  "language_info": {
   "codemirror_mode": {
    "name": "ipython",
    "version": 3
   },
   "file_extension": ".py",
   "mimetype": "text/x-python",
   "name": "python",
   "nbconvert_exporter": "python",
   "pygments_lexer": "ipython3",
   "version": "3.8.2"
  },
  "orig_nbformat": 4,
  "vscode": {
   "interpreter": {
    "hash": "f0aff2940ba2c1f332a0d939276085247018ceea080d892981f4077d3ced65aa"
   }
  }
 },
 "nbformat": 4,
 "nbformat_minor": 2
}
